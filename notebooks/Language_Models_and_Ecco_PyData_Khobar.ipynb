{
  "nbformat": 4,
  "nbformat_minor": 0,
  "metadata": {
    "colab": {
      "name": "Language Models and Ecco -- PyData Khobar.ipynb",
      "provenance": [],
      "collapsed_sections": [],
      "include_colab_link": true
    },
    "kernelspec": {
      "name": "python3",
      "display_name": "Python 3"
    },
    "widgets": {
      "application/vnd.jupyter.widget-state+json": {
        "168fb9911c374ca7b7d573eda43374d0": {
          "model_module": "@jupyter-widgets/controls",
          "model_name": "HBoxModel",
          "model_module_version": "1.5.0",
          "state": {
            "_view_name": "HBoxView",
            "_dom_classes": [],
            "_model_name": "HBoxModel",
            "_view_module": "@jupyter-widgets/controls",
            "_model_module_version": "1.5.0",
            "_view_count": null,
            "_view_module_version": "1.5.0",
            "box_style": "",
            "layout": "IPY_MODEL_9c5e79ffec6e4e878c959e53c52c3d57",
            "_model_module": "@jupyter-widgets/controls",
            "children": [
              "IPY_MODEL_5ce75f1cb1bd45a485eedbb3900f9b17",
              "IPY_MODEL_4cd0cd4289f54c03a1c2177075e6f6c5",
              "IPY_MODEL_a9be8b524a14429088b5145bd7be74e8"
            ]
          }
        },
        "9c5e79ffec6e4e878c959e53c52c3d57": {
          "model_module": "@jupyter-widgets/base",
          "model_name": "LayoutModel",
          "model_module_version": "1.2.0",
          "state": {
            "_view_name": "LayoutView",
            "grid_template_rows": null,
            "right": null,
            "justify_content": null,
            "_view_module": "@jupyter-widgets/base",
            "overflow": null,
            "_model_module_version": "1.2.0",
            "_view_count": null,
            "flex_flow": null,
            "width": null,
            "min_width": null,
            "border": null,
            "align_items": null,
            "bottom": null,
            "_model_module": "@jupyter-widgets/base",
            "top": null,
            "grid_column": null,
            "overflow_y": null,
            "overflow_x": null,
            "grid_auto_flow": null,
            "grid_area": null,
            "grid_template_columns": null,
            "flex": null,
            "_model_name": "LayoutModel",
            "justify_items": null,
            "grid_row": null,
            "max_height": null,
            "align_content": null,
            "visibility": null,
            "align_self": null,
            "height": null,
            "min_height": null,
            "padding": null,
            "grid_auto_rows": null,
            "grid_gap": null,
            "max_width": null,
            "order": null,
            "_view_module_version": "1.2.0",
            "grid_template_areas": null,
            "object_position": null,
            "object_fit": null,
            "grid_auto_columns": null,
            "margin": null,
            "display": null,
            "left": null
          }
        },
        "5ce75f1cb1bd45a485eedbb3900f9b17": {
          "model_module": "@jupyter-widgets/controls",
          "model_name": "HTMLModel",
          "model_module_version": "1.5.0",
          "state": {
            "_view_name": "HTMLView",
            "style": "IPY_MODEL_914908f953004aee9a48713cf1fddec7",
            "_dom_classes": [],
            "description": "",
            "_model_name": "HTMLModel",
            "placeholder": "​",
            "_view_module": "@jupyter-widgets/controls",
            "_model_module_version": "1.5.0",
            "value": "Downloading: 100%",
            "_view_count": null,
            "_view_module_version": "1.5.0",
            "description_tooltip": null,
            "_model_module": "@jupyter-widgets/controls",
            "layout": "IPY_MODEL_cbdc1ab4c23b4ce0a01e6f8e80efa2c1"
          }
        },
        "4cd0cd4289f54c03a1c2177075e6f6c5": {
          "model_module": "@jupyter-widgets/controls",
          "model_name": "FloatProgressModel",
          "model_module_version": "1.5.0",
          "state": {
            "_view_name": "ProgressView",
            "style": "IPY_MODEL_f95211f0d4a440b683edb08730e3ce8d",
            "_dom_classes": [],
            "description": "",
            "_model_name": "FloatProgressModel",
            "bar_style": "success",
            "max": 762,
            "_view_module": "@jupyter-widgets/controls",
            "_model_module_version": "1.5.0",
            "value": 762,
            "_view_count": null,
            "_view_module_version": "1.5.0",
            "orientation": "horizontal",
            "min": 0,
            "description_tooltip": null,
            "_model_module": "@jupyter-widgets/controls",
            "layout": "IPY_MODEL_439d46604aab4aa4ba8c941e38d89458"
          }
        },
        "a9be8b524a14429088b5145bd7be74e8": {
          "model_module": "@jupyter-widgets/controls",
          "model_name": "HTMLModel",
          "model_module_version": "1.5.0",
          "state": {
            "_view_name": "HTMLView",
            "style": "IPY_MODEL_0fbc064dc120445395d51726bbe5156f",
            "_dom_classes": [],
            "description": "",
            "_model_name": "HTMLModel",
            "placeholder": "​",
            "_view_module": "@jupyter-widgets/controls",
            "_model_module_version": "1.5.0",
            "value": " 762/762 [00:00&lt;00:00, 15.9kB/s]",
            "_view_count": null,
            "_view_module_version": "1.5.0",
            "description_tooltip": null,
            "_model_module": "@jupyter-widgets/controls",
            "layout": "IPY_MODEL_0abfefb0e65b4112bdea3df6ec27d345"
          }
        },
        "914908f953004aee9a48713cf1fddec7": {
          "model_module": "@jupyter-widgets/controls",
          "model_name": "DescriptionStyleModel",
          "model_module_version": "1.5.0",
          "state": {
            "_view_name": "StyleView",
            "_model_name": "DescriptionStyleModel",
            "description_width": "",
            "_view_module": "@jupyter-widgets/base",
            "_model_module_version": "1.5.0",
            "_view_count": null,
            "_view_module_version": "1.2.0",
            "_model_module": "@jupyter-widgets/controls"
          }
        },
        "cbdc1ab4c23b4ce0a01e6f8e80efa2c1": {
          "model_module": "@jupyter-widgets/base",
          "model_name": "LayoutModel",
          "model_module_version": "1.2.0",
          "state": {
            "_view_name": "LayoutView",
            "grid_template_rows": null,
            "right": null,
            "justify_content": null,
            "_view_module": "@jupyter-widgets/base",
            "overflow": null,
            "_model_module_version": "1.2.0",
            "_view_count": null,
            "flex_flow": null,
            "width": null,
            "min_width": null,
            "border": null,
            "align_items": null,
            "bottom": null,
            "_model_module": "@jupyter-widgets/base",
            "top": null,
            "grid_column": null,
            "overflow_y": null,
            "overflow_x": null,
            "grid_auto_flow": null,
            "grid_area": null,
            "grid_template_columns": null,
            "flex": null,
            "_model_name": "LayoutModel",
            "justify_items": null,
            "grid_row": null,
            "max_height": null,
            "align_content": null,
            "visibility": null,
            "align_self": null,
            "height": null,
            "min_height": null,
            "padding": null,
            "grid_auto_rows": null,
            "grid_gap": null,
            "max_width": null,
            "order": null,
            "_view_module_version": "1.2.0",
            "grid_template_areas": null,
            "object_position": null,
            "object_fit": null,
            "grid_auto_columns": null,
            "margin": null,
            "display": null,
            "left": null
          }
        },
        "f95211f0d4a440b683edb08730e3ce8d": {
          "model_module": "@jupyter-widgets/controls",
          "model_name": "ProgressStyleModel",
          "model_module_version": "1.5.0",
          "state": {
            "_view_name": "StyleView",
            "_model_name": "ProgressStyleModel",
            "description_width": "",
            "_view_module": "@jupyter-widgets/base",
            "_model_module_version": "1.5.0",
            "_view_count": null,
            "_view_module_version": "1.2.0",
            "bar_color": null,
            "_model_module": "@jupyter-widgets/controls"
          }
        },
        "439d46604aab4aa4ba8c941e38d89458": {
          "model_module": "@jupyter-widgets/base",
          "model_name": "LayoutModel",
          "model_module_version": "1.2.0",
          "state": {
            "_view_name": "LayoutView",
            "grid_template_rows": null,
            "right": null,
            "justify_content": null,
            "_view_module": "@jupyter-widgets/base",
            "overflow": null,
            "_model_module_version": "1.2.0",
            "_view_count": null,
            "flex_flow": null,
            "width": null,
            "min_width": null,
            "border": null,
            "align_items": null,
            "bottom": null,
            "_model_module": "@jupyter-widgets/base",
            "top": null,
            "grid_column": null,
            "overflow_y": null,
            "overflow_x": null,
            "grid_auto_flow": null,
            "grid_area": null,
            "grid_template_columns": null,
            "flex": null,
            "_model_name": "LayoutModel",
            "justify_items": null,
            "grid_row": null,
            "max_height": null,
            "align_content": null,
            "visibility": null,
            "align_self": null,
            "height": null,
            "min_height": null,
            "padding": null,
            "grid_auto_rows": null,
            "grid_gap": null,
            "max_width": null,
            "order": null,
            "_view_module_version": "1.2.0",
            "grid_template_areas": null,
            "object_position": null,
            "object_fit": null,
            "grid_auto_columns": null,
            "margin": null,
            "display": null,
            "left": null
          }
        },
        "0fbc064dc120445395d51726bbe5156f": {
          "model_module": "@jupyter-widgets/controls",
          "model_name": "DescriptionStyleModel",
          "model_module_version": "1.5.0",
          "state": {
            "_view_name": "StyleView",
            "_model_name": "DescriptionStyleModel",
            "description_width": "",
            "_view_module": "@jupyter-widgets/base",
            "_model_module_version": "1.5.0",
            "_view_count": null,
            "_view_module_version": "1.2.0",
            "_model_module": "@jupyter-widgets/controls"
          }
        },
        "0abfefb0e65b4112bdea3df6ec27d345": {
          "model_module": "@jupyter-widgets/base",
          "model_name": "LayoutModel",
          "model_module_version": "1.2.0",
          "state": {
            "_view_name": "LayoutView",
            "grid_template_rows": null,
            "right": null,
            "justify_content": null,
            "_view_module": "@jupyter-widgets/base",
            "overflow": null,
            "_model_module_version": "1.2.0",
            "_view_count": null,
            "flex_flow": null,
            "width": null,
            "min_width": null,
            "border": null,
            "align_items": null,
            "bottom": null,
            "_model_module": "@jupyter-widgets/base",
            "top": null,
            "grid_column": null,
            "overflow_y": null,
            "overflow_x": null,
            "grid_auto_flow": null,
            "grid_area": null,
            "grid_template_columns": null,
            "flex": null,
            "_model_name": "LayoutModel",
            "justify_items": null,
            "grid_row": null,
            "max_height": null,
            "align_content": null,
            "visibility": null,
            "align_self": null,
            "height": null,
            "min_height": null,
            "padding": null,
            "grid_auto_rows": null,
            "grid_gap": null,
            "max_width": null,
            "order": null,
            "_view_module_version": "1.2.0",
            "grid_template_areas": null,
            "object_position": null,
            "object_fit": null,
            "grid_auto_columns": null,
            "margin": null,
            "display": null,
            "left": null
          }
        },
        "da7d960dcae54dc1a28452c03ade82e8": {
          "model_module": "@jupyter-widgets/controls",
          "model_name": "HBoxModel",
          "model_module_version": "1.5.0",
          "state": {
            "_view_name": "HBoxView",
            "_dom_classes": [],
            "_model_name": "HBoxModel",
            "_view_module": "@jupyter-widgets/controls",
            "_model_module_version": "1.5.0",
            "_view_count": null,
            "_view_module_version": "1.5.0",
            "box_style": "",
            "layout": "IPY_MODEL_690f21c642074905993257abc50a3fb8",
            "_model_module": "@jupyter-widgets/controls",
            "children": [
              "IPY_MODEL_b802a0337d8b4260b5fdf708935c170c",
              "IPY_MODEL_7a7068a485a4465fbf34238050f639f2",
              "IPY_MODEL_91cad0ef247d47abbcc5f47947f45b5f"
            ]
          }
        },
        "690f21c642074905993257abc50a3fb8": {
          "model_module": "@jupyter-widgets/base",
          "model_name": "LayoutModel",
          "model_module_version": "1.2.0",
          "state": {
            "_view_name": "LayoutView",
            "grid_template_rows": null,
            "right": null,
            "justify_content": null,
            "_view_module": "@jupyter-widgets/base",
            "overflow": null,
            "_model_module_version": "1.2.0",
            "_view_count": null,
            "flex_flow": null,
            "width": null,
            "min_width": null,
            "border": null,
            "align_items": null,
            "bottom": null,
            "_model_module": "@jupyter-widgets/base",
            "top": null,
            "grid_column": null,
            "overflow_y": null,
            "overflow_x": null,
            "grid_auto_flow": null,
            "grid_area": null,
            "grid_template_columns": null,
            "flex": null,
            "_model_name": "LayoutModel",
            "justify_items": null,
            "grid_row": null,
            "max_height": null,
            "align_content": null,
            "visibility": null,
            "align_self": null,
            "height": null,
            "min_height": null,
            "padding": null,
            "grid_auto_rows": null,
            "grid_gap": null,
            "max_width": null,
            "order": null,
            "_view_module_version": "1.2.0",
            "grid_template_areas": null,
            "object_position": null,
            "object_fit": null,
            "grid_auto_columns": null,
            "margin": null,
            "display": null,
            "left": null
          }
        },
        "b802a0337d8b4260b5fdf708935c170c": {
          "model_module": "@jupyter-widgets/controls",
          "model_name": "HTMLModel",
          "model_module_version": "1.5.0",
          "state": {
            "_view_name": "HTMLView",
            "style": "IPY_MODEL_868fa34cf6094366a4404b1a4908b7c6",
            "_dom_classes": [],
            "description": "",
            "_model_name": "HTMLModel",
            "placeholder": "​",
            "_view_module": "@jupyter-widgets/controls",
            "_model_module_version": "1.5.0",
            "value": "Downloading: 100%",
            "_view_count": null,
            "_view_module_version": "1.5.0",
            "description_tooltip": null,
            "_model_module": "@jupyter-widgets/controls",
            "layout": "IPY_MODEL_899dd9e042a04c8ead6f5fc886d69cd3"
          }
        },
        "7a7068a485a4465fbf34238050f639f2": {
          "model_module": "@jupyter-widgets/controls",
          "model_name": "FloatProgressModel",
          "model_module_version": "1.5.0",
          "state": {
            "_view_name": "ProgressView",
            "style": "IPY_MODEL_138533d092614f6cb3fc641d7222175c",
            "_dom_classes": [],
            "description": "",
            "_model_name": "FloatProgressModel",
            "bar_style": "success",
            "max": 1042301,
            "_view_module": "@jupyter-widgets/controls",
            "_model_module_version": "1.5.0",
            "value": 1042301,
            "_view_count": null,
            "_view_module_version": "1.5.0",
            "orientation": "horizontal",
            "min": 0,
            "description_tooltip": null,
            "_model_module": "@jupyter-widgets/controls",
            "layout": "IPY_MODEL_89eedb6c390d4af3a11421b1ffaa6b0b"
          }
        },
        "91cad0ef247d47abbcc5f47947f45b5f": {
          "model_module": "@jupyter-widgets/controls",
          "model_name": "HTMLModel",
          "model_module_version": "1.5.0",
          "state": {
            "_view_name": "HTMLView",
            "style": "IPY_MODEL_e58bacd83b734b3d8c2cffff39308290",
            "_dom_classes": [],
            "description": "",
            "_model_name": "HTMLModel",
            "placeholder": "​",
            "_view_module": "@jupyter-widgets/controls",
            "_model_module_version": "1.5.0",
            "value": " 1.04M/1.04M [00:00&lt;00:00, 1.68MB/s]",
            "_view_count": null,
            "_view_module_version": "1.5.0",
            "description_tooltip": null,
            "_model_module": "@jupyter-widgets/controls",
            "layout": "IPY_MODEL_8a21197ef8694dfa921022eb112e4b7e"
          }
        },
        "868fa34cf6094366a4404b1a4908b7c6": {
          "model_module": "@jupyter-widgets/controls",
          "model_name": "DescriptionStyleModel",
          "model_module_version": "1.5.0",
          "state": {
            "_view_name": "StyleView",
            "_model_name": "DescriptionStyleModel",
            "description_width": "",
            "_view_module": "@jupyter-widgets/base",
            "_model_module_version": "1.5.0",
            "_view_count": null,
            "_view_module_version": "1.2.0",
            "_model_module": "@jupyter-widgets/controls"
          }
        },
        "899dd9e042a04c8ead6f5fc886d69cd3": {
          "model_module": "@jupyter-widgets/base",
          "model_name": "LayoutModel",
          "model_module_version": "1.2.0",
          "state": {
            "_view_name": "LayoutView",
            "grid_template_rows": null,
            "right": null,
            "justify_content": null,
            "_view_module": "@jupyter-widgets/base",
            "overflow": null,
            "_model_module_version": "1.2.0",
            "_view_count": null,
            "flex_flow": null,
            "width": null,
            "min_width": null,
            "border": null,
            "align_items": null,
            "bottom": null,
            "_model_module": "@jupyter-widgets/base",
            "top": null,
            "grid_column": null,
            "overflow_y": null,
            "overflow_x": null,
            "grid_auto_flow": null,
            "grid_area": null,
            "grid_template_columns": null,
            "flex": null,
            "_model_name": "LayoutModel",
            "justify_items": null,
            "grid_row": null,
            "max_height": null,
            "align_content": null,
            "visibility": null,
            "align_self": null,
            "height": null,
            "min_height": null,
            "padding": null,
            "grid_auto_rows": null,
            "grid_gap": null,
            "max_width": null,
            "order": null,
            "_view_module_version": "1.2.0",
            "grid_template_areas": null,
            "object_position": null,
            "object_fit": null,
            "grid_auto_columns": null,
            "margin": null,
            "display": null,
            "left": null
          }
        },
        "138533d092614f6cb3fc641d7222175c": {
          "model_module": "@jupyter-widgets/controls",
          "model_name": "ProgressStyleModel",
          "model_module_version": "1.5.0",
          "state": {
            "_view_name": "StyleView",
            "_model_name": "ProgressStyleModel",
            "description_width": "",
            "_view_module": "@jupyter-widgets/base",
            "_model_module_version": "1.5.0",
            "_view_count": null,
            "_view_module_version": "1.2.0",
            "bar_color": null,
            "_model_module": "@jupyter-widgets/controls"
          }
        },
        "89eedb6c390d4af3a11421b1ffaa6b0b": {
          "model_module": "@jupyter-widgets/base",
          "model_name": "LayoutModel",
          "model_module_version": "1.2.0",
          "state": {
            "_view_name": "LayoutView",
            "grid_template_rows": null,
            "right": null,
            "justify_content": null,
            "_view_module": "@jupyter-widgets/base",
            "overflow": null,
            "_model_module_version": "1.2.0",
            "_view_count": null,
            "flex_flow": null,
            "width": null,
            "min_width": null,
            "border": null,
            "align_items": null,
            "bottom": null,
            "_model_module": "@jupyter-widgets/base",
            "top": null,
            "grid_column": null,
            "overflow_y": null,
            "overflow_x": null,
            "grid_auto_flow": null,
            "grid_area": null,
            "grid_template_columns": null,
            "flex": null,
            "_model_name": "LayoutModel",
            "justify_items": null,
            "grid_row": null,
            "max_height": null,
            "align_content": null,
            "visibility": null,
            "align_self": null,
            "height": null,
            "min_height": null,
            "padding": null,
            "grid_auto_rows": null,
            "grid_gap": null,
            "max_width": null,
            "order": null,
            "_view_module_version": "1.2.0",
            "grid_template_areas": null,
            "object_position": null,
            "object_fit": null,
            "grid_auto_columns": null,
            "margin": null,
            "display": null,
            "left": null
          }
        },
        "e58bacd83b734b3d8c2cffff39308290": {
          "model_module": "@jupyter-widgets/controls",
          "model_name": "DescriptionStyleModel",
          "model_module_version": "1.5.0",
          "state": {
            "_view_name": "StyleView",
            "_model_name": "DescriptionStyleModel",
            "description_width": "",
            "_view_module": "@jupyter-widgets/base",
            "_model_module_version": "1.5.0",
            "_view_count": null,
            "_view_module_version": "1.2.0",
            "_model_module": "@jupyter-widgets/controls"
          }
        },
        "8a21197ef8694dfa921022eb112e4b7e": {
          "model_module": "@jupyter-widgets/base",
          "model_name": "LayoutModel",
          "model_module_version": "1.2.0",
          "state": {
            "_view_name": "LayoutView",
            "grid_template_rows": null,
            "right": null,
            "justify_content": null,
            "_view_module": "@jupyter-widgets/base",
            "overflow": null,
            "_model_module_version": "1.2.0",
            "_view_count": null,
            "flex_flow": null,
            "width": null,
            "min_width": null,
            "border": null,
            "align_items": null,
            "bottom": null,
            "_model_module": "@jupyter-widgets/base",
            "top": null,
            "grid_column": null,
            "overflow_y": null,
            "overflow_x": null,
            "grid_auto_flow": null,
            "grid_area": null,
            "grid_template_columns": null,
            "flex": null,
            "_model_name": "LayoutModel",
            "justify_items": null,
            "grid_row": null,
            "max_height": null,
            "align_content": null,
            "visibility": null,
            "align_self": null,
            "height": null,
            "min_height": null,
            "padding": null,
            "grid_auto_rows": null,
            "grid_gap": null,
            "max_width": null,
            "order": null,
            "_view_module_version": "1.2.0",
            "grid_template_areas": null,
            "object_position": null,
            "object_fit": null,
            "grid_auto_columns": null,
            "margin": null,
            "display": null,
            "left": null
          }
        },
        "bf84444d76cd45a2abd303908e9eb917": {
          "model_module": "@jupyter-widgets/controls",
          "model_name": "HBoxModel",
          "model_module_version": "1.5.0",
          "state": {
            "_view_name": "HBoxView",
            "_dom_classes": [],
            "_model_name": "HBoxModel",
            "_view_module": "@jupyter-widgets/controls",
            "_model_module_version": "1.5.0",
            "_view_count": null,
            "_view_module_version": "1.5.0",
            "box_style": "",
            "layout": "IPY_MODEL_cb4280ac00ae4fffa8ff7c002c28979c",
            "_model_module": "@jupyter-widgets/controls",
            "children": [
              "IPY_MODEL_a88020078e95424fa945bf6f93a034e3",
              "IPY_MODEL_dd68bdcb707c4f138904c104c497128c",
              "IPY_MODEL_58f61e53a8b248ba8b5bb3349384f5be"
            ]
          }
        },
        "cb4280ac00ae4fffa8ff7c002c28979c": {
          "model_module": "@jupyter-widgets/base",
          "model_name": "LayoutModel",
          "model_module_version": "1.2.0",
          "state": {
            "_view_name": "LayoutView",
            "grid_template_rows": null,
            "right": null,
            "justify_content": null,
            "_view_module": "@jupyter-widgets/base",
            "overflow": null,
            "_model_module_version": "1.2.0",
            "_view_count": null,
            "flex_flow": null,
            "width": null,
            "min_width": null,
            "border": null,
            "align_items": null,
            "bottom": null,
            "_model_module": "@jupyter-widgets/base",
            "top": null,
            "grid_column": null,
            "overflow_y": null,
            "overflow_x": null,
            "grid_auto_flow": null,
            "grid_area": null,
            "grid_template_columns": null,
            "flex": null,
            "_model_name": "LayoutModel",
            "justify_items": null,
            "grid_row": null,
            "max_height": null,
            "align_content": null,
            "visibility": null,
            "align_self": null,
            "height": null,
            "min_height": null,
            "padding": null,
            "grid_auto_rows": null,
            "grid_gap": null,
            "max_width": null,
            "order": null,
            "_view_module_version": "1.2.0",
            "grid_template_areas": null,
            "object_position": null,
            "object_fit": null,
            "grid_auto_columns": null,
            "margin": null,
            "display": null,
            "left": null
          }
        },
        "a88020078e95424fa945bf6f93a034e3": {
          "model_module": "@jupyter-widgets/controls",
          "model_name": "HTMLModel",
          "model_module_version": "1.5.0",
          "state": {
            "_view_name": "HTMLView",
            "style": "IPY_MODEL_65bd30dd2a1645d68468189cb5ba2736",
            "_dom_classes": [],
            "description": "",
            "_model_name": "HTMLModel",
            "placeholder": "​",
            "_view_module": "@jupyter-widgets/controls",
            "_model_module_version": "1.5.0",
            "value": "Downloading: 100%",
            "_view_count": null,
            "_view_module_version": "1.5.0",
            "description_tooltip": null,
            "_model_module": "@jupyter-widgets/controls",
            "layout": "IPY_MODEL_b3edfe7551284e778f8e7bd0f4e2ff13"
          }
        },
        "dd68bdcb707c4f138904c104c497128c": {
          "model_module": "@jupyter-widgets/controls",
          "model_name": "FloatProgressModel",
          "model_module_version": "1.5.0",
          "state": {
            "_view_name": "ProgressView",
            "style": "IPY_MODEL_528a6777eaac4d74b2b2274a233e4818",
            "_dom_classes": [],
            "description": "",
            "_model_name": "FloatProgressModel",
            "bar_style": "success",
            "max": 456318,
            "_view_module": "@jupyter-widgets/controls",
            "_model_module_version": "1.5.0",
            "value": 456318,
            "_view_count": null,
            "_view_module_version": "1.5.0",
            "orientation": "horizontal",
            "min": 0,
            "description_tooltip": null,
            "_model_module": "@jupyter-widgets/controls",
            "layout": "IPY_MODEL_3dd745d7db9b4799a871c436eb94f4fe"
          }
        },
        "58f61e53a8b248ba8b5bb3349384f5be": {
          "model_module": "@jupyter-widgets/controls",
          "model_name": "HTMLModel",
          "model_module_version": "1.5.0",
          "state": {
            "_view_name": "HTMLView",
            "style": "IPY_MODEL_5c8aeeda6e574221aae2255fc992f6a0",
            "_dom_classes": [],
            "description": "",
            "_model_name": "HTMLModel",
            "placeholder": "​",
            "_view_module": "@jupyter-widgets/controls",
            "_model_module_version": "1.5.0",
            "value": " 456k/456k [00:00&lt;00:00, 1.54MB/s]",
            "_view_count": null,
            "_view_module_version": "1.5.0",
            "description_tooltip": null,
            "_model_module": "@jupyter-widgets/controls",
            "layout": "IPY_MODEL_3ba2d8fc83f64973866150b1835a2a94"
          }
        },
        "65bd30dd2a1645d68468189cb5ba2736": {
          "model_module": "@jupyter-widgets/controls",
          "model_name": "DescriptionStyleModel",
          "model_module_version": "1.5.0",
          "state": {
            "_view_name": "StyleView",
            "_model_name": "DescriptionStyleModel",
            "description_width": "",
            "_view_module": "@jupyter-widgets/base",
            "_model_module_version": "1.5.0",
            "_view_count": null,
            "_view_module_version": "1.2.0",
            "_model_module": "@jupyter-widgets/controls"
          }
        },
        "b3edfe7551284e778f8e7bd0f4e2ff13": {
          "model_module": "@jupyter-widgets/base",
          "model_name": "LayoutModel",
          "model_module_version": "1.2.0",
          "state": {
            "_view_name": "LayoutView",
            "grid_template_rows": null,
            "right": null,
            "justify_content": null,
            "_view_module": "@jupyter-widgets/base",
            "overflow": null,
            "_model_module_version": "1.2.0",
            "_view_count": null,
            "flex_flow": null,
            "width": null,
            "min_width": null,
            "border": null,
            "align_items": null,
            "bottom": null,
            "_model_module": "@jupyter-widgets/base",
            "top": null,
            "grid_column": null,
            "overflow_y": null,
            "overflow_x": null,
            "grid_auto_flow": null,
            "grid_area": null,
            "grid_template_columns": null,
            "flex": null,
            "_model_name": "LayoutModel",
            "justify_items": null,
            "grid_row": null,
            "max_height": null,
            "align_content": null,
            "visibility": null,
            "align_self": null,
            "height": null,
            "min_height": null,
            "padding": null,
            "grid_auto_rows": null,
            "grid_gap": null,
            "max_width": null,
            "order": null,
            "_view_module_version": "1.2.0",
            "grid_template_areas": null,
            "object_position": null,
            "object_fit": null,
            "grid_auto_columns": null,
            "margin": null,
            "display": null,
            "left": null
          }
        },
        "528a6777eaac4d74b2b2274a233e4818": {
          "model_module": "@jupyter-widgets/controls",
          "model_name": "ProgressStyleModel",
          "model_module_version": "1.5.0",
          "state": {
            "_view_name": "StyleView",
            "_model_name": "ProgressStyleModel",
            "description_width": "",
            "_view_module": "@jupyter-widgets/base",
            "_model_module_version": "1.5.0",
            "_view_count": null,
            "_view_module_version": "1.2.0",
            "bar_color": null,
            "_model_module": "@jupyter-widgets/controls"
          }
        },
        "3dd745d7db9b4799a871c436eb94f4fe": {
          "model_module": "@jupyter-widgets/base",
          "model_name": "LayoutModel",
          "model_module_version": "1.2.0",
          "state": {
            "_view_name": "LayoutView",
            "grid_template_rows": null,
            "right": null,
            "justify_content": null,
            "_view_module": "@jupyter-widgets/base",
            "overflow": null,
            "_model_module_version": "1.2.0",
            "_view_count": null,
            "flex_flow": null,
            "width": null,
            "min_width": null,
            "border": null,
            "align_items": null,
            "bottom": null,
            "_model_module": "@jupyter-widgets/base",
            "top": null,
            "grid_column": null,
            "overflow_y": null,
            "overflow_x": null,
            "grid_auto_flow": null,
            "grid_area": null,
            "grid_template_columns": null,
            "flex": null,
            "_model_name": "LayoutModel",
            "justify_items": null,
            "grid_row": null,
            "max_height": null,
            "align_content": null,
            "visibility": null,
            "align_self": null,
            "height": null,
            "min_height": null,
            "padding": null,
            "grid_auto_rows": null,
            "grid_gap": null,
            "max_width": null,
            "order": null,
            "_view_module_version": "1.2.0",
            "grid_template_areas": null,
            "object_position": null,
            "object_fit": null,
            "grid_auto_columns": null,
            "margin": null,
            "display": null,
            "left": null
          }
        },
        "5c8aeeda6e574221aae2255fc992f6a0": {
          "model_module": "@jupyter-widgets/controls",
          "model_name": "DescriptionStyleModel",
          "model_module_version": "1.5.0",
          "state": {
            "_view_name": "StyleView",
            "_model_name": "DescriptionStyleModel",
            "description_width": "",
            "_view_module": "@jupyter-widgets/base",
            "_model_module_version": "1.5.0",
            "_view_count": null,
            "_view_module_version": "1.2.0",
            "_model_module": "@jupyter-widgets/controls"
          }
        },
        "3ba2d8fc83f64973866150b1835a2a94": {
          "model_module": "@jupyter-widgets/base",
          "model_name": "LayoutModel",
          "model_module_version": "1.2.0",
          "state": {
            "_view_name": "LayoutView",
            "grid_template_rows": null,
            "right": null,
            "justify_content": null,
            "_view_module": "@jupyter-widgets/base",
            "overflow": null,
            "_model_module_version": "1.2.0",
            "_view_count": null,
            "flex_flow": null,
            "width": null,
            "min_width": null,
            "border": null,
            "align_items": null,
            "bottom": null,
            "_model_module": "@jupyter-widgets/base",
            "top": null,
            "grid_column": null,
            "overflow_y": null,
            "overflow_x": null,
            "grid_auto_flow": null,
            "grid_area": null,
            "grid_template_columns": null,
            "flex": null,
            "_model_name": "LayoutModel",
            "justify_items": null,
            "grid_row": null,
            "max_height": null,
            "align_content": null,
            "visibility": null,
            "align_self": null,
            "height": null,
            "min_height": null,
            "padding": null,
            "grid_auto_rows": null,
            "grid_gap": null,
            "max_width": null,
            "order": null,
            "_view_module_version": "1.2.0",
            "grid_template_areas": null,
            "object_position": null,
            "object_fit": null,
            "grid_auto_columns": null,
            "margin": null,
            "display": null,
            "left": null
          }
        },
        "b93e98e3bd3f4fd3b64d020846e70d7e": {
          "model_module": "@jupyter-widgets/controls",
          "model_name": "HBoxModel",
          "model_module_version": "1.5.0",
          "state": {
            "_view_name": "HBoxView",
            "_dom_classes": [],
            "_model_name": "HBoxModel",
            "_view_module": "@jupyter-widgets/controls",
            "_model_module_version": "1.5.0",
            "_view_count": null,
            "_view_module_version": "1.5.0",
            "box_style": "",
            "layout": "IPY_MODEL_95efa59427784ba28b34e0a871442772",
            "_model_module": "@jupyter-widgets/controls",
            "children": [
              "IPY_MODEL_926a889fa4694eff9349be98f1698c89",
              "IPY_MODEL_4179227f0daf4d3bbbd27553b77d0f5e",
              "IPY_MODEL_d5952b213b1f4fc694718cf33adcb397"
            ]
          }
        },
        "95efa59427784ba28b34e0a871442772": {
          "model_module": "@jupyter-widgets/base",
          "model_name": "LayoutModel",
          "model_module_version": "1.2.0",
          "state": {
            "_view_name": "LayoutView",
            "grid_template_rows": null,
            "right": null,
            "justify_content": null,
            "_view_module": "@jupyter-widgets/base",
            "overflow": null,
            "_model_module_version": "1.2.0",
            "_view_count": null,
            "flex_flow": null,
            "width": null,
            "min_width": null,
            "border": null,
            "align_items": null,
            "bottom": null,
            "_model_module": "@jupyter-widgets/base",
            "top": null,
            "grid_column": null,
            "overflow_y": null,
            "overflow_x": null,
            "grid_auto_flow": null,
            "grid_area": null,
            "grid_template_columns": null,
            "flex": null,
            "_model_name": "LayoutModel",
            "justify_items": null,
            "grid_row": null,
            "max_height": null,
            "align_content": null,
            "visibility": null,
            "align_self": null,
            "height": null,
            "min_height": null,
            "padding": null,
            "grid_auto_rows": null,
            "grid_gap": null,
            "max_width": null,
            "order": null,
            "_view_module_version": "1.2.0",
            "grid_template_areas": null,
            "object_position": null,
            "object_fit": null,
            "grid_auto_columns": null,
            "margin": null,
            "display": null,
            "left": null
          }
        },
        "926a889fa4694eff9349be98f1698c89": {
          "model_module": "@jupyter-widgets/controls",
          "model_name": "HTMLModel",
          "model_module_version": "1.5.0",
          "state": {
            "_view_name": "HTMLView",
            "style": "IPY_MODEL_0305e7f445be4a8aa3fda342065f9c1b",
            "_dom_classes": [],
            "description": "",
            "_model_name": "HTMLModel",
            "placeholder": "​",
            "_view_module": "@jupyter-widgets/controls",
            "_model_module_version": "1.5.0",
            "value": "Downloading: 100%",
            "_view_count": null,
            "_view_module_version": "1.5.0",
            "description_tooltip": null,
            "_model_module": "@jupyter-widgets/controls",
            "layout": "IPY_MODEL_b6178d4aedc34b25a8ddef6267626ab3"
          }
        },
        "4179227f0daf4d3bbbd27553b77d0f5e": {
          "model_module": "@jupyter-widgets/controls",
          "model_name": "FloatProgressModel",
          "model_module_version": "1.5.0",
          "state": {
            "_view_name": "ProgressView",
            "style": "IPY_MODEL_886ad1926461409197b62556ff5702ef",
            "_dom_classes": [],
            "description": "",
            "_model_name": "FloatProgressModel",
            "bar_style": "success",
            "max": 1355256,
            "_view_module": "@jupyter-widgets/controls",
            "_model_module_version": "1.5.0",
            "value": 1355256,
            "_view_count": null,
            "_view_module_version": "1.5.0",
            "orientation": "horizontal",
            "min": 0,
            "description_tooltip": null,
            "_model_module": "@jupyter-widgets/controls",
            "layout": "IPY_MODEL_a47f7a65e6534fed92d8b47df74e14f7"
          }
        },
        "d5952b213b1f4fc694718cf33adcb397": {
          "model_module": "@jupyter-widgets/controls",
          "model_name": "HTMLModel",
          "model_module_version": "1.5.0",
          "state": {
            "_view_name": "HTMLView",
            "style": "IPY_MODEL_78fda61bd0524c0f99dede5a9dcb3a1b",
            "_dom_classes": [],
            "description": "",
            "_model_name": "HTMLModel",
            "placeholder": "​",
            "_view_module": "@jupyter-widgets/controls",
            "_model_module_version": "1.5.0",
            "value": " 1.36M/1.36M [00:00&lt;00:00, 1.63MB/s]",
            "_view_count": null,
            "_view_module_version": "1.5.0",
            "description_tooltip": null,
            "_model_module": "@jupyter-widgets/controls",
            "layout": "IPY_MODEL_0c71704da0584aa4bbafb6a229b3c1fe"
          }
        },
        "0305e7f445be4a8aa3fda342065f9c1b": {
          "model_module": "@jupyter-widgets/controls",
          "model_name": "DescriptionStyleModel",
          "model_module_version": "1.5.0",
          "state": {
            "_view_name": "StyleView",
            "_model_name": "DescriptionStyleModel",
            "description_width": "",
            "_view_module": "@jupyter-widgets/base",
            "_model_module_version": "1.5.0",
            "_view_count": null,
            "_view_module_version": "1.2.0",
            "_model_module": "@jupyter-widgets/controls"
          }
        },
        "b6178d4aedc34b25a8ddef6267626ab3": {
          "model_module": "@jupyter-widgets/base",
          "model_name": "LayoutModel",
          "model_module_version": "1.2.0",
          "state": {
            "_view_name": "LayoutView",
            "grid_template_rows": null,
            "right": null,
            "justify_content": null,
            "_view_module": "@jupyter-widgets/base",
            "overflow": null,
            "_model_module_version": "1.2.0",
            "_view_count": null,
            "flex_flow": null,
            "width": null,
            "min_width": null,
            "border": null,
            "align_items": null,
            "bottom": null,
            "_model_module": "@jupyter-widgets/base",
            "top": null,
            "grid_column": null,
            "overflow_y": null,
            "overflow_x": null,
            "grid_auto_flow": null,
            "grid_area": null,
            "grid_template_columns": null,
            "flex": null,
            "_model_name": "LayoutModel",
            "justify_items": null,
            "grid_row": null,
            "max_height": null,
            "align_content": null,
            "visibility": null,
            "align_self": null,
            "height": null,
            "min_height": null,
            "padding": null,
            "grid_auto_rows": null,
            "grid_gap": null,
            "max_width": null,
            "order": null,
            "_view_module_version": "1.2.0",
            "grid_template_areas": null,
            "object_position": null,
            "object_fit": null,
            "grid_auto_columns": null,
            "margin": null,
            "display": null,
            "left": null
          }
        },
        "886ad1926461409197b62556ff5702ef": {
          "model_module": "@jupyter-widgets/controls",
          "model_name": "ProgressStyleModel",
          "model_module_version": "1.5.0",
          "state": {
            "_view_name": "StyleView",
            "_model_name": "ProgressStyleModel",
            "description_width": "",
            "_view_module": "@jupyter-widgets/base",
            "_model_module_version": "1.5.0",
            "_view_count": null,
            "_view_module_version": "1.2.0",
            "bar_color": null,
            "_model_module": "@jupyter-widgets/controls"
          }
        },
        "a47f7a65e6534fed92d8b47df74e14f7": {
          "model_module": "@jupyter-widgets/base",
          "model_name": "LayoutModel",
          "model_module_version": "1.2.0",
          "state": {
            "_view_name": "LayoutView",
            "grid_template_rows": null,
            "right": null,
            "justify_content": null,
            "_view_module": "@jupyter-widgets/base",
            "overflow": null,
            "_model_module_version": "1.2.0",
            "_view_count": null,
            "flex_flow": null,
            "width": null,
            "min_width": null,
            "border": null,
            "align_items": null,
            "bottom": null,
            "_model_module": "@jupyter-widgets/base",
            "top": null,
            "grid_column": null,
            "overflow_y": null,
            "overflow_x": null,
            "grid_auto_flow": null,
            "grid_area": null,
            "grid_template_columns": null,
            "flex": null,
            "_model_name": "LayoutModel",
            "justify_items": null,
            "grid_row": null,
            "max_height": null,
            "align_content": null,
            "visibility": null,
            "align_self": null,
            "height": null,
            "min_height": null,
            "padding": null,
            "grid_auto_rows": null,
            "grid_gap": null,
            "max_width": null,
            "order": null,
            "_view_module_version": "1.2.0",
            "grid_template_areas": null,
            "object_position": null,
            "object_fit": null,
            "grid_auto_columns": null,
            "margin": null,
            "display": null,
            "left": null
          }
        },
        "78fda61bd0524c0f99dede5a9dcb3a1b": {
          "model_module": "@jupyter-widgets/controls",
          "model_name": "DescriptionStyleModel",
          "model_module_version": "1.5.0",
          "state": {
            "_view_name": "StyleView",
            "_model_name": "DescriptionStyleModel",
            "description_width": "",
            "_view_module": "@jupyter-widgets/base",
            "_model_module_version": "1.5.0",
            "_view_count": null,
            "_view_module_version": "1.2.0",
            "_model_module": "@jupyter-widgets/controls"
          }
        },
        "0c71704da0584aa4bbafb6a229b3c1fe": {
          "model_module": "@jupyter-widgets/base",
          "model_name": "LayoutModel",
          "model_module_version": "1.2.0",
          "state": {
            "_view_name": "LayoutView",
            "grid_template_rows": null,
            "right": null,
            "justify_content": null,
            "_view_module": "@jupyter-widgets/base",
            "overflow": null,
            "_model_module_version": "1.2.0",
            "_view_count": null,
            "flex_flow": null,
            "width": null,
            "min_width": null,
            "border": null,
            "align_items": null,
            "bottom": null,
            "_model_module": "@jupyter-widgets/base",
            "top": null,
            "grid_column": null,
            "overflow_y": null,
            "overflow_x": null,
            "grid_auto_flow": null,
            "grid_area": null,
            "grid_template_columns": null,
            "flex": null,
            "_model_name": "LayoutModel",
            "justify_items": null,
            "grid_row": null,
            "max_height": null,
            "align_content": null,
            "visibility": null,
            "align_self": null,
            "height": null,
            "min_height": null,
            "padding": null,
            "grid_auto_rows": null,
            "grid_gap": null,
            "max_width": null,
            "order": null,
            "_view_module_version": "1.2.0",
            "grid_template_areas": null,
            "object_position": null,
            "object_fit": null,
            "grid_auto_columns": null,
            "margin": null,
            "display": null,
            "left": null
          }
        },
        "d5d16e0f4c454725b3516bb9357283c9": {
          "model_module": "@jupyter-widgets/controls",
          "model_name": "HBoxModel",
          "model_module_version": "1.5.0",
          "state": {
            "_view_name": "HBoxView",
            "_dom_classes": [],
            "_model_name": "HBoxModel",
            "_view_module": "@jupyter-widgets/controls",
            "_model_module_version": "1.5.0",
            "_view_count": null,
            "_view_module_version": "1.5.0",
            "box_style": "",
            "layout": "IPY_MODEL_4fb8125b1b404c06852b5e649b13a394",
            "_model_module": "@jupyter-widgets/controls",
            "children": [
              "IPY_MODEL_decb903e7d794f20b9ef7af4100d1b2b",
              "IPY_MODEL_5b20c2f918d74dc4a2726ff21202264a",
              "IPY_MODEL_64c08da5ef5344e9b0e51ad0d0077bac"
            ]
          }
        },
        "4fb8125b1b404c06852b5e649b13a394": {
          "model_module": "@jupyter-widgets/base",
          "model_name": "LayoutModel",
          "model_module_version": "1.2.0",
          "state": {
            "_view_name": "LayoutView",
            "grid_template_rows": null,
            "right": null,
            "justify_content": null,
            "_view_module": "@jupyter-widgets/base",
            "overflow": null,
            "_model_module_version": "1.2.0",
            "_view_count": null,
            "flex_flow": null,
            "width": null,
            "min_width": null,
            "border": null,
            "align_items": null,
            "bottom": null,
            "_model_module": "@jupyter-widgets/base",
            "top": null,
            "grid_column": null,
            "overflow_y": null,
            "overflow_x": null,
            "grid_auto_flow": null,
            "grid_area": null,
            "grid_template_columns": null,
            "flex": null,
            "_model_name": "LayoutModel",
            "justify_items": null,
            "grid_row": null,
            "max_height": null,
            "align_content": null,
            "visibility": null,
            "align_self": null,
            "height": null,
            "min_height": null,
            "padding": null,
            "grid_auto_rows": null,
            "grid_gap": null,
            "max_width": null,
            "order": null,
            "_view_module_version": "1.2.0",
            "grid_template_areas": null,
            "object_position": null,
            "object_fit": null,
            "grid_auto_columns": null,
            "margin": null,
            "display": null,
            "left": null
          }
        },
        "decb903e7d794f20b9ef7af4100d1b2b": {
          "model_module": "@jupyter-widgets/controls",
          "model_name": "HTMLModel",
          "model_module_version": "1.5.0",
          "state": {
            "_view_name": "HTMLView",
            "style": "IPY_MODEL_91af256f335e49ac8332bf8d26c4fc23",
            "_dom_classes": [],
            "description": "",
            "_model_name": "HTMLModel",
            "placeholder": "​",
            "_view_module": "@jupyter-widgets/controls",
            "_model_module_version": "1.5.0",
            "value": "Downloading: 100%",
            "_view_count": null,
            "_view_module_version": "1.5.0",
            "description_tooltip": null,
            "_model_module": "@jupyter-widgets/controls",
            "layout": "IPY_MODEL_571f87ee29cd4aca8ecadd182028e99f"
          }
        },
        "5b20c2f918d74dc4a2726ff21202264a": {
          "model_module": "@jupyter-widgets/controls",
          "model_name": "FloatProgressModel",
          "model_module_version": "1.5.0",
          "state": {
            "_view_name": "ProgressView",
            "style": "IPY_MODEL_3c4049deca73470198d4febbdcb82d30",
            "_dom_classes": [],
            "description": "",
            "_model_name": "FloatProgressModel",
            "bar_style": "success",
            "max": 352833716,
            "_view_module": "@jupyter-widgets/controls",
            "_model_module_version": "1.5.0",
            "value": 352833716,
            "_view_count": null,
            "_view_module_version": "1.5.0",
            "orientation": "horizontal",
            "min": 0,
            "description_tooltip": null,
            "_model_module": "@jupyter-widgets/controls",
            "layout": "IPY_MODEL_51dccfd449ed4018b40fb26f10f3b7fe"
          }
        },
        "64c08da5ef5344e9b0e51ad0d0077bac": {
          "model_module": "@jupyter-widgets/controls",
          "model_name": "HTMLModel",
          "model_module_version": "1.5.0",
          "state": {
            "_view_name": "HTMLView",
            "style": "IPY_MODEL_81896cf5bf7a46c1aeda5948acf770e8",
            "_dom_classes": [],
            "description": "",
            "_model_name": "HTMLModel",
            "placeholder": "​",
            "_view_module": "@jupyter-widgets/controls",
            "_model_module_version": "1.5.0",
            "value": " 353M/353M [00:09&lt;00:00, 42.9MB/s]",
            "_view_count": null,
            "_view_module_version": "1.5.0",
            "description_tooltip": null,
            "_model_module": "@jupyter-widgets/controls",
            "layout": "IPY_MODEL_296e6584112c432dbbe2192ce3569f9d"
          }
        },
        "91af256f335e49ac8332bf8d26c4fc23": {
          "model_module": "@jupyter-widgets/controls",
          "model_name": "DescriptionStyleModel",
          "model_module_version": "1.5.0",
          "state": {
            "_view_name": "StyleView",
            "_model_name": "DescriptionStyleModel",
            "description_width": "",
            "_view_module": "@jupyter-widgets/base",
            "_model_module_version": "1.5.0",
            "_view_count": null,
            "_view_module_version": "1.2.0",
            "_model_module": "@jupyter-widgets/controls"
          }
        },
        "571f87ee29cd4aca8ecadd182028e99f": {
          "model_module": "@jupyter-widgets/base",
          "model_name": "LayoutModel",
          "model_module_version": "1.2.0",
          "state": {
            "_view_name": "LayoutView",
            "grid_template_rows": null,
            "right": null,
            "justify_content": null,
            "_view_module": "@jupyter-widgets/base",
            "overflow": null,
            "_model_module_version": "1.2.0",
            "_view_count": null,
            "flex_flow": null,
            "width": null,
            "min_width": null,
            "border": null,
            "align_items": null,
            "bottom": null,
            "_model_module": "@jupyter-widgets/base",
            "top": null,
            "grid_column": null,
            "overflow_y": null,
            "overflow_x": null,
            "grid_auto_flow": null,
            "grid_area": null,
            "grid_template_columns": null,
            "flex": null,
            "_model_name": "LayoutModel",
            "justify_items": null,
            "grid_row": null,
            "max_height": null,
            "align_content": null,
            "visibility": null,
            "align_self": null,
            "height": null,
            "min_height": null,
            "padding": null,
            "grid_auto_rows": null,
            "grid_gap": null,
            "max_width": null,
            "order": null,
            "_view_module_version": "1.2.0",
            "grid_template_areas": null,
            "object_position": null,
            "object_fit": null,
            "grid_auto_columns": null,
            "margin": null,
            "display": null,
            "left": null
          }
        },
        "3c4049deca73470198d4febbdcb82d30": {
          "model_module": "@jupyter-widgets/controls",
          "model_name": "ProgressStyleModel",
          "model_module_version": "1.5.0",
          "state": {
            "_view_name": "StyleView",
            "_model_name": "ProgressStyleModel",
            "description_width": "",
            "_view_module": "@jupyter-widgets/base",
            "_model_module_version": "1.5.0",
            "_view_count": null,
            "_view_module_version": "1.2.0",
            "bar_color": null,
            "_model_module": "@jupyter-widgets/controls"
          }
        },
        "51dccfd449ed4018b40fb26f10f3b7fe": {
          "model_module": "@jupyter-widgets/base",
          "model_name": "LayoutModel",
          "model_module_version": "1.2.0",
          "state": {
            "_view_name": "LayoutView",
            "grid_template_rows": null,
            "right": null,
            "justify_content": null,
            "_view_module": "@jupyter-widgets/base",
            "overflow": null,
            "_model_module_version": "1.2.0",
            "_view_count": null,
            "flex_flow": null,
            "width": null,
            "min_width": null,
            "border": null,
            "align_items": null,
            "bottom": null,
            "_model_module": "@jupyter-widgets/base",
            "top": null,
            "grid_column": null,
            "overflow_y": null,
            "overflow_x": null,
            "grid_auto_flow": null,
            "grid_area": null,
            "grid_template_columns": null,
            "flex": null,
            "_model_name": "LayoutModel",
            "justify_items": null,
            "grid_row": null,
            "max_height": null,
            "align_content": null,
            "visibility": null,
            "align_self": null,
            "height": null,
            "min_height": null,
            "padding": null,
            "grid_auto_rows": null,
            "grid_gap": null,
            "max_width": null,
            "order": null,
            "_view_module_version": "1.2.0",
            "grid_template_areas": null,
            "object_position": null,
            "object_fit": null,
            "grid_auto_columns": null,
            "margin": null,
            "display": null,
            "left": null
          }
        },
        "81896cf5bf7a46c1aeda5948acf770e8": {
          "model_module": "@jupyter-widgets/controls",
          "model_name": "DescriptionStyleModel",
          "model_module_version": "1.5.0",
          "state": {
            "_view_name": "StyleView",
            "_model_name": "DescriptionStyleModel",
            "description_width": "",
            "_view_module": "@jupyter-widgets/base",
            "_model_module_version": "1.5.0",
            "_view_count": null,
            "_view_module_version": "1.2.0",
            "_model_module": "@jupyter-widgets/controls"
          }
        },
        "296e6584112c432dbbe2192ce3569f9d": {
          "model_module": "@jupyter-widgets/base",
          "model_name": "LayoutModel",
          "model_module_version": "1.2.0",
          "state": {
            "_view_name": "LayoutView",
            "grid_template_rows": null,
            "right": null,
            "justify_content": null,
            "_view_module": "@jupyter-widgets/base",
            "overflow": null,
            "_model_module_version": "1.2.0",
            "_view_count": null,
            "flex_flow": null,
            "width": null,
            "min_width": null,
            "border": null,
            "align_items": null,
            "bottom": null,
            "_model_module": "@jupyter-widgets/base",
            "top": null,
            "grid_column": null,
            "overflow_y": null,
            "overflow_x": null,
            "grid_auto_flow": null,
            "grid_area": null,
            "grid_template_columns": null,
            "flex": null,
            "_model_name": "LayoutModel",
            "justify_items": null,
            "grid_row": null,
            "max_height": null,
            "align_content": null,
            "visibility": null,
            "align_self": null,
            "height": null,
            "min_height": null,
            "padding": null,
            "grid_auto_rows": null,
            "grid_gap": null,
            "max_width": null,
            "order": null,
            "_view_module_version": "1.2.0",
            "grid_template_areas": null,
            "object_position": null,
            "object_fit": null,
            "grid_auto_columns": null,
            "margin": null,
            "display": null,
            "left": null
          }
        }
      }
    }
  },
  "cells": [
    {
      "cell_type": "markdown",
      "metadata": {
        "id": "view-in-github",
        "colab_type": "text"
      },
      "source": [
        "<a href=\"https://colab.research.google.com/github/brunotech/BioBERTpt/blob/master/notebooks/Language_Models_and_Ecco_PyData_Khobar.ipynb\" target=\"_parent\"><img src=\"https://colab.research.google.com/assets/colab-badge.svg\" alt=\"Open In Colab\"/></a>"
      ]
    },
    {
      "cell_type": "markdown",
      "metadata": {
        "id": "tUdlUusx7U-n"
      },
      "source": [
        "## Intro to Ecco -- Making Language Models More Transparent\n",
        "This notebook is an intro to [Ecco](https://www.eccox.io) and is the companion to the video: [Take A Look Inside Language Models With Ecco | PyData Khobar](https://www.youtube.com/watch?v=rHrItfNeuh0). \n",
        " "
      ]
    },
    {
      "cell_type": "code",
      "metadata": {
        "id": "Ii6Crs6VpXBM",
        "colab": {
          "base_uri": "https://localhost:8080/"
        },
        "outputId": "e4f866c4-f7c4-4134-c5f6-37b70a7d6826"
      },
      "source": [
        "# Install Ecco. This assumes you have pytorch installed.\n",
        "!pip install ecco\n",
        "import warnings\n",
        "warnings.filterwarnings('ignore')"
      ],
      "execution_count": 1,
      "outputs": [
        {
          "output_type": "stream",
          "text": [
            "Collecting ecco\n",
            "  Downloading ecco-0.0.15-py2.py3-none-any.whl (56 kB)\n",
            "\u001b[K     |████████████████████████████████| 56 kB 2.5 MB/s \n",
            "\u001b[?25hCollecting transformers~=4.2\n",
            "  Downloading transformers-4.9.2-py3-none-any.whl (2.6 MB)\n",
            "\u001b[K     |████████████████████████████████| 2.6 MB 9.1 MB/s \n",
            "\u001b[?25hCollecting scikit-learn~=0.23\n",
            "  Downloading scikit_learn-0.24.2-cp37-cp37m-manylinux2010_x86_64.whl (22.3 MB)\n",
            "\u001b[K     |████████████████████████████████| 22.3 MB 77.2 MB/s \n",
            "\u001b[?25hCollecting PyYAML~=5.4\n",
            "  Downloading PyYAML-5.4.1-cp37-cp37m-manylinux1_x86_64.whl (636 kB)\n",
            "\u001b[K     |████████████████████████████████| 636 kB 51.6 MB/s \n",
            "\u001b[?25hRequirement already satisfied: seaborn~=0.11 in /usr/local/lib/python3.7/dist-packages (from ecco) (0.11.1)\n",
            "Requirement already satisfied: numpy>=1.13.3 in /usr/local/lib/python3.7/dist-packages (from scikit-learn~=0.23->ecco) (1.19.5)\n",
            "Collecting threadpoolctl>=2.0.0\n",
            "  Downloading threadpoolctl-2.2.0-py3-none-any.whl (12 kB)\n",
            "Requirement already satisfied: scipy>=0.19.1 in /usr/local/lib/python3.7/dist-packages (from scikit-learn~=0.23->ecco) (1.4.1)\n",
            "Requirement already satisfied: joblib>=0.11 in /usr/local/lib/python3.7/dist-packages (from scikit-learn~=0.23->ecco) (1.0.1)\n",
            "Requirement already satisfied: pandas>=0.23 in /usr/local/lib/python3.7/dist-packages (from seaborn~=0.11->ecco) (1.1.5)\n",
            "Requirement already satisfied: matplotlib>=2.2 in /usr/local/lib/python3.7/dist-packages (from seaborn~=0.11->ecco) (3.2.2)\n",
            "Requirement already satisfied: kiwisolver>=1.0.1 in /usr/local/lib/python3.7/dist-packages (from matplotlib>=2.2->seaborn~=0.11->ecco) (1.3.1)\n",
            "Requirement already satisfied: pyparsing!=2.0.4,!=2.1.2,!=2.1.6,>=2.0.1 in /usr/local/lib/python3.7/dist-packages (from matplotlib>=2.2->seaborn~=0.11->ecco) (2.4.7)\n",
            "Requirement already satisfied: python-dateutil>=2.1 in /usr/local/lib/python3.7/dist-packages (from matplotlib>=2.2->seaborn~=0.11->ecco) (2.8.2)\n",
            "Requirement already satisfied: cycler>=0.10 in /usr/local/lib/python3.7/dist-packages (from matplotlib>=2.2->seaborn~=0.11->ecco) (0.10.0)\n",
            "Requirement already satisfied: six in /usr/local/lib/python3.7/dist-packages (from cycler>=0.10->matplotlib>=2.2->seaborn~=0.11->ecco) (1.15.0)\n",
            "Requirement already satisfied: pytz>=2017.2 in /usr/local/lib/python3.7/dist-packages (from pandas>=0.23->seaborn~=0.11->ecco) (2018.9)\n",
            "Requirement already satisfied: packaging in /usr/local/lib/python3.7/dist-packages (from transformers~=4.2->ecco) (21.0)\n",
            "Collecting tokenizers<0.11,>=0.10.1\n",
            "  Downloading tokenizers-0.10.3-cp37-cp37m-manylinux_2_5_x86_64.manylinux1_x86_64.manylinux_2_12_x86_64.manylinux2010_x86_64.whl (3.3 MB)\n",
            "\u001b[K     |████████████████████████████████| 3.3 MB 56.4 MB/s \n",
            "\u001b[?25hRequirement already satisfied: requests in /usr/local/lib/python3.7/dist-packages (from transformers~=4.2->ecco) (2.23.0)\n",
            "Requirement already satisfied: importlib-metadata in /usr/local/lib/python3.7/dist-packages (from transformers~=4.2->ecco) (4.6.4)\n",
            "Requirement already satisfied: tqdm>=4.27 in /usr/local/lib/python3.7/dist-packages (from transformers~=4.2->ecco) (4.62.0)\n",
            "Collecting sacremoses\n",
            "  Downloading sacremoses-0.0.45-py3-none-any.whl (895 kB)\n",
            "\u001b[K     |████████████████████████████████| 895 kB 44.4 MB/s \n",
            "\u001b[?25hRequirement already satisfied: regex!=2019.12.17 in /usr/local/lib/python3.7/dist-packages (from transformers~=4.2->ecco) (2019.12.20)\n",
            "Collecting huggingface-hub==0.0.12\n",
            "  Downloading huggingface_hub-0.0.12-py3-none-any.whl (37 kB)\n",
            "Requirement already satisfied: filelock in /usr/local/lib/python3.7/dist-packages (from transformers~=4.2->ecco) (3.0.12)\n",
            "Requirement already satisfied: typing-extensions in /usr/local/lib/python3.7/dist-packages (from huggingface-hub==0.0.12->transformers~=4.2->ecco) (3.7.4.3)\n",
            "Requirement already satisfied: zipp>=0.5 in /usr/local/lib/python3.7/dist-packages (from importlib-metadata->transformers~=4.2->ecco) (3.5.0)\n",
            "Requirement already satisfied: certifi>=2017.4.17 in /usr/local/lib/python3.7/dist-packages (from requests->transformers~=4.2->ecco) (2021.5.30)\n",
            "Requirement already satisfied: urllib3!=1.25.0,!=1.25.1,<1.26,>=1.21.1 in /usr/local/lib/python3.7/dist-packages (from requests->transformers~=4.2->ecco) (1.24.3)\n",
            "Requirement already satisfied: chardet<4,>=3.0.2 in /usr/local/lib/python3.7/dist-packages (from requests->transformers~=4.2->ecco) (3.0.4)\n",
            "Requirement already satisfied: idna<3,>=2.5 in /usr/local/lib/python3.7/dist-packages (from requests->transformers~=4.2->ecco) (2.10)\n",
            "Requirement already satisfied: click in /usr/local/lib/python3.7/dist-packages (from sacremoses->transformers~=4.2->ecco) (7.1.2)\n",
            "Installing collected packages: tokenizers, threadpoolctl, sacremoses, PyYAML, huggingface-hub, transformers, scikit-learn, ecco\n",
            "  Attempting uninstall: PyYAML\n",
            "    Found existing installation: PyYAML 3.13\n",
            "    Uninstalling PyYAML-3.13:\n",
            "      Successfully uninstalled PyYAML-3.13\n",
            "  Attempting uninstall: scikit-learn\n",
            "    Found existing installation: scikit-learn 0.22.2.post1\n",
            "    Uninstalling scikit-learn-0.22.2.post1:\n",
            "      Successfully uninstalled scikit-learn-0.22.2.post1\n",
            "Successfully installed PyYAML-5.4.1 ecco-0.0.15 huggingface-hub-0.0.12 sacremoses-0.0.45 scikit-learn-0.24.2 threadpoolctl-2.2.0 tokenizers-0.10.3 transformers-4.9.2\n"
          ],
          "name": "stdout"
        }
      ]
    },
    {
      "cell_type": "code",
      "metadata": {
        "id": "S1tPxd2fpdYo",
        "colab": {
          "base_uri": "https://localhost:8080/",
          "height": 177,
          "referenced_widgets": [
            "168fb9911c374ca7b7d573eda43374d0",
            "9c5e79ffec6e4e878c959e53c52c3d57",
            "5ce75f1cb1bd45a485eedbb3900f9b17",
            "4cd0cd4289f54c03a1c2177075e6f6c5",
            "a9be8b524a14429088b5145bd7be74e8",
            "914908f953004aee9a48713cf1fddec7",
            "cbdc1ab4c23b4ce0a01e6f8e80efa2c1",
            "f95211f0d4a440b683edb08730e3ce8d",
            "439d46604aab4aa4ba8c941e38d89458",
            "0fbc064dc120445395d51726bbe5156f",
            "0abfefb0e65b4112bdea3df6ec27d345",
            "da7d960dcae54dc1a28452c03ade82e8",
            "690f21c642074905993257abc50a3fb8",
            "b802a0337d8b4260b5fdf708935c170c",
            "7a7068a485a4465fbf34238050f639f2",
            "91cad0ef247d47abbcc5f47947f45b5f",
            "868fa34cf6094366a4404b1a4908b7c6",
            "899dd9e042a04c8ead6f5fc886d69cd3",
            "138533d092614f6cb3fc641d7222175c",
            "89eedb6c390d4af3a11421b1ffaa6b0b",
            "e58bacd83b734b3d8c2cffff39308290",
            "8a21197ef8694dfa921022eb112e4b7e",
            "bf84444d76cd45a2abd303908e9eb917",
            "cb4280ac00ae4fffa8ff7c002c28979c",
            "a88020078e95424fa945bf6f93a034e3",
            "dd68bdcb707c4f138904c104c497128c",
            "58f61e53a8b248ba8b5bb3349384f5be",
            "65bd30dd2a1645d68468189cb5ba2736",
            "b3edfe7551284e778f8e7bd0f4e2ff13",
            "528a6777eaac4d74b2b2274a233e4818",
            "3dd745d7db9b4799a871c436eb94f4fe",
            "5c8aeeda6e574221aae2255fc992f6a0",
            "3ba2d8fc83f64973866150b1835a2a94",
            "b93e98e3bd3f4fd3b64d020846e70d7e",
            "95efa59427784ba28b34e0a871442772",
            "926a889fa4694eff9349be98f1698c89",
            "4179227f0daf4d3bbbd27553b77d0f5e",
            "d5952b213b1f4fc694718cf33adcb397",
            "0305e7f445be4a8aa3fda342065f9c1b",
            "b6178d4aedc34b25a8ddef6267626ab3",
            "886ad1926461409197b62556ff5702ef",
            "a47f7a65e6534fed92d8b47df74e14f7",
            "78fda61bd0524c0f99dede5a9dcb3a1b",
            "0c71704da0584aa4bbafb6a229b3c1fe",
            "d5d16e0f4c454725b3516bb9357283c9",
            "4fb8125b1b404c06852b5e649b13a394",
            "decb903e7d794f20b9ef7af4100d1b2b",
            "5b20c2f918d74dc4a2726ff21202264a",
            "64c08da5ef5344e9b0e51ad0d0077bac",
            "91af256f335e49ac8332bf8d26c4fc23",
            "571f87ee29cd4aca8ecadd182028e99f",
            "3c4049deca73470198d4febbdcb82d30",
            "51dccfd449ed4018b40fb26f10f3b7fe",
            "81896cf5bf7a46c1aeda5948acf770e8",
            "296e6584112c432dbbe2192ce3569f9d"
          ]
        },
        "outputId": "7b7dbdf7-cea8-407d-cfdb-4e233e88d7c2"
      },
      "source": [
        "import ecco\n",
        "\n",
        "# Load pre-trained language model. Setting 'activations' to True tells Ecco to capture neuron activations.\n",
        "# distillgpt is a distilled GPT2 model. You can also try 'gpt2' \n",
        "lm = ecco.from_pretrained('distilgpt2', activations=True)"
      ],
      "execution_count": 2,
      "outputs": [
        {
          "output_type": "display_data",
          "data": {
            "application/vnd.jupyter.widget-view+json": {
              "model_id": "168fb9911c374ca7b7d573eda43374d0",
              "version_minor": 0,
              "version_major": 2
            },
            "text/plain": [
              "Downloading:   0%|          | 0.00/762 [00:00<?, ?B/s]"
            ]
          },
          "metadata": {}
        },
        {
          "output_type": "display_data",
          "data": {
            "application/vnd.jupyter.widget-view+json": {
              "model_id": "da7d960dcae54dc1a28452c03ade82e8",
              "version_minor": 0,
              "version_major": 2
            },
            "text/plain": [
              "Downloading:   0%|          | 0.00/1.04M [00:00<?, ?B/s]"
            ]
          },
          "metadata": {}
        },
        {
          "output_type": "display_data",
          "data": {
            "application/vnd.jupyter.widget-view+json": {
              "model_id": "bf84444d76cd45a2abd303908e9eb917",
              "version_minor": 0,
              "version_major": 2
            },
            "text/plain": [
              "Downloading:   0%|          | 0.00/456k [00:00<?, ?B/s]"
            ]
          },
          "metadata": {}
        },
        {
          "output_type": "display_data",
          "data": {
            "application/vnd.jupyter.widget-view+json": {
              "model_id": "b93e98e3bd3f4fd3b64d020846e70d7e",
              "version_minor": 0,
              "version_major": 2
            },
            "text/plain": [
              "Downloading:   0%|          | 0.00/1.36M [00:00<?, ?B/s]"
            ]
          },
          "metadata": {}
        },
        {
          "output_type": "display_data",
          "data": {
            "application/vnd.jupyter.widget-view+json": {
              "model_id": "d5d16e0f4c454725b3516bb9357283c9",
              "version_minor": 0,
              "version_major": 2
            },
            "text/plain": [
              "Downloading:   0%|          | 0.00/353M [00:00<?, ?B/s]"
            ]
          },
          "metadata": {}
        }
      ]
    },
    {
      "cell_type": "markdown",
      "metadata": {
        "id": "t91NoD-AwQFA"
      },
      "source": [
        "## Overview\n",
        "\n",
        "Complete the sentence:\n",
        "`It was a matter of ____`"
      ]
    },
    {
      "cell_type": "code",
      "metadata": {
        "colab": {
          "base_uri": "https://localhost:8080/",
          "height": 48
        },
        "id": "Ixn-FHcdYL_M",
        "outputId": "1cec93d6-de1c-4096-a005-d196830e4680"
      },
      "source": [
        "text = \" it was a matter of\"\n",
        "\n",
        "# Generate one token\n",
        "output_1 = lm.generate(text, generate=1, do_sample=False)"
      ],
      "execution_count": 3,
      "outputs": [
        {
          "output_type": "display_data",
          "data": {
            "text/html": [
              "<html lang=\"en\">\n",
              "<script src=\"https://requirejs.org/docs/release/2.3.6/minified/require.js\"></script>\n",
              "<script>\n",
              "    var ecco_url = 'https://storage.googleapis.com/ml-intro/ecco/'\n",
              "    // var ecco_url = 'http://localhost:8000/ecco/'\n",
              "\n",
              "    if (window.ecco === undefined) window.ecco = {}\n",
              "\n",
              "    requirejs.config({\n",
              "        urlArgs: \"bust=\" + (new Date()).getTime(),\n",
              "        nodeRequire: require,\n",
              "        paths: {\n",
              "            d3: \"https://d3js.org/d3.v5.min\",\n",
              "            \"d3-array\": \"https://d3js.org/d3-array.v2.min\",\n",
              "            jquery: \"https://code.jquery.com/jquery-3.5.1.min\",\n",
              "            // oldEcco: ecco_url + 'ecco',\n",
              "            ecco: ecco_url + 'js/0.0.4/ecco-bundle.min',\n",
              "            xregexp: 'https://cdnjs.cloudflare.com/ajax/libs/xregexp/3.2.0/xregexp-all.min'\n",
              "        }\n",
              "    });\n",
              "    requirejs(['d3'],\n",
              "        function (d3) {\n",
              "            d3.select('#css').attr('href', ecco_url + 'html/styles.css')\n",
              "        })\n",
              "\n",
              "    console.log('Ecco initialize.')\n",
              "</script>\n",
              "\n",
              "<head>\n",
              "    <link id='css' rel=\"stylesheet\" type=\"text/css\">\n",
              "</head>\n"
            ],
            "text/plain": [
              "<IPython.core.display.HTML object>"
            ]
          },
          "metadata": {}
        },
        {
          "output_type": "display_data",
          "data": {
            "text/html": [
              "<script>\n",
              "    // console.log('defining basic')\n",
              "    define('basic', ['d3'],\n",
              "        function (d3) {\n",
              "            return {\n",
              "                init: function (viz_id = null) {\n",
              "\n",
              "                    // console.log('basic init')\n",
              "                    if (viz_id == null){\n",
              "                        viz_id = \"viz_\" + Math.round(Math.random() * 10000000)\n",
              "                    }\n",
              "                    const div = d3.select('#basic').attr('id', viz_id),\n",
              "                        div_parent = d3.select('#' + viz_id).node().parentNode\n",
              "\n",
              "                    // Link to CSS file\n",
              "                    d3.select(div_parent).insert('link')\n",
              "                        .attr('rel', 'stylesheet')\n",
              "                        .attr('type', 'text/css')\n",
              "                        .attr('href', ecco_url + 'html/styles.css')\n",
              "\n",
              "                    return viz_id\n",
              "                }\n",
              "            }\n",
              "        }, function (err) {console.log(err);}\n",
              "    )\n",
              "    // console.log('after defining basic')\n",
              "\n",
              "</script>\n",
              "<div id=\"basic\"></div>\n"
            ],
            "text/plain": [
              "<IPython.core.display.HTML object>"
            ]
          },
          "metadata": {}
        },
        {
          "output_type": "display_data",
          "data": {
            "application/javascript": [
              "\n",
              "\n",
              "         requirejs( ['basic', 'ecco'], function(basic, ecco){\n",
              "            basic.init('viz_420083')\n",
              "\n",
              "            window.ecco['viz_420083'] = ecco.renderOutputSequence('viz_420083', {'tokens': [{'token': ' it', 'position': 0, 'token_id': 340, 'type': 'input'}, {'token': ' was', 'position': 1, 'token_id': 373, 'type': 'input'}, {'token': ' a', 'position': 2, 'token_id': 257, 'type': 'input'}, {'token': ' matter', 'position': 3, 'token_id': 2300, 'type': 'input'}, {'token': ' of', 'position': 4, 'token_id': 286, 'type': 'input'}]})\n",
              "         }, function (err) {\n",
              "            console.log(err);\n",
              "        })\n"
            ],
            "text/plain": [
              "<IPython.core.display.Javascript object>"
            ]
          },
          "metadata": {}
        },
        {
          "output_type": "display_data",
          "data": {
            "application/javascript": [
              "\n",
              "        // We don't really need these require scripts. But this is to avert\n",
              "        //this code from running before display_input_sequence which DOES require external files\n",
              "        requirejs(['basic', 'ecco'], function(basic, ecco){\n",
              "                console.log('addToken viz_id', 'viz_420083');\n",
              "                window.ecco['viz_420083'].addToken({\"token\": \" time\", \"token_id\": 640, \"position\": 5, \"type\": \"output\"})\n",
              "                window.ecco['viz_420083'].redraw()\n",
              "        })\n",
              "        "
            ],
            "text/plain": [
              "<IPython.core.display.Javascript object>"
            ]
          },
          "metadata": {}
        }
      ]
    },
    {
      "cell_type": "code",
      "metadata": {
        "colab": {
          "base_uri": "https://localhost:8080/",
          "height": 160
        },
        "id": "JzA265wyYL4K",
        "outputId": "e5f61532-c278-4b97-b6b3-fcec5a7743b6"
      },
      "source": [
        "# Show the top 10 candidate output tokens for position #5. \n",
        "# Layer 5 is the last layer in the model.\n",
        "output_1.layer_predictions(position=5, layer=5, topk=10)"
      ],
      "execution_count": 4,
      "outputs": [
        {
          "output_type": "display_data",
          "data": {
            "text/html": [
              "<html lang=\"en\">\n",
              "<script src=\"https://requirejs.org/docs/release/2.3.6/minified/require.js\"></script>\n",
              "<script>\n",
              "    var ecco_url = 'https://storage.googleapis.com/ml-intro/ecco/'\n",
              "    // var ecco_url = 'http://localhost:8000/ecco/'\n",
              "\n",
              "    if (window.ecco === undefined) window.ecco = {}\n",
              "\n",
              "    requirejs.config({\n",
              "        urlArgs: \"bust=\" + (new Date()).getTime(),\n",
              "        nodeRequire: require,\n",
              "        paths: {\n",
              "            d3: \"https://d3js.org/d3.v5.min\",\n",
              "            \"d3-array\": \"https://d3js.org/d3-array.v2.min\",\n",
              "            jquery: \"https://code.jquery.com/jquery-3.5.1.min\",\n",
              "            // oldEcco: ecco_url + 'ecco',\n",
              "            ecco: ecco_url + 'js/0.0.4/ecco-bundle.min',\n",
              "            xregexp: 'https://cdnjs.cloudflare.com/ajax/libs/xregexp/3.2.0/xregexp-all.min'\n",
              "        }\n",
              "    });\n",
              "    requirejs(['d3'],\n",
              "        function (d3) {\n",
              "            d3.select('#css').attr('href', ecco_url + 'html/styles.css')\n",
              "        })\n",
              "\n",
              "    console.log('Ecco initialize.')\n",
              "</script>\n",
              "\n",
              "<head>\n",
              "    <link id='css' rel=\"stylesheet\" type=\"text/css\">\n",
              "</head>\n"
            ],
            "text/plain": [
              "<IPython.core.display.HTML object>"
            ]
          },
          "metadata": {}
        },
        {
          "output_type": "display_data",
          "data": {
            "text/html": [
              "<script>\n",
              "    // console.log('defining basic')\n",
              "    define('basic', ['d3'],\n",
              "        function (d3) {\n",
              "            return {\n",
              "                init: function (viz_id = null) {\n",
              "\n",
              "                    // console.log('basic init')\n",
              "                    if (viz_id == null){\n",
              "                        viz_id = \"viz_\" + Math.round(Math.random() * 10000000)\n",
              "                    }\n",
              "                    const div = d3.select('#basic').attr('id', viz_id),\n",
              "                        div_parent = d3.select('#' + viz_id).node().parentNode\n",
              "\n",
              "                    // Link to CSS file\n",
              "                    d3.select(div_parent).insert('link')\n",
              "                        .attr('rel', 'stylesheet')\n",
              "                        .attr('type', 'text/css')\n",
              "                        .attr('href', ecco_url + 'html/styles.css')\n",
              "\n",
              "                    return viz_id\n",
              "                }\n",
              "            }\n",
              "        }, function (err) {console.log(err);}\n",
              "    )\n",
              "    // console.log('after defining basic')\n",
              "\n",
              "</script>\n",
              "<div id=\"basic\"></div>\n"
            ],
            "text/plain": [
              "<IPython.core.display.HTML object>"
            ]
          },
          "metadata": {}
        },
        {
          "output_type": "display_data",
          "data": {
            "application/javascript": [
              "\n",
              "         requirejs(['basic', 'ecco'], function(basic, ecco){\n",
              "            const viz_id = basic.init()\n",
              "\n",
              "\n",
              "            let pred = new ecco.LayerPredictions({\n",
              "                parentDiv: viz_id,\n",
              "                data:[[{\"token\": \" time\", \"prob\": \"0.1609947\", \"ranking\": 1, \"layer\": 5}, {\"token\": \" the\", \"prob\": \"0.023776313\", \"ranking\": 2, \"layer\": 5}, {\"token\": \" fact\", \"prob\": \"0.016822413\", \"ranking\": 3, \"layer\": 5}, {\"token\": \" a\", \"prob\": \"0.015250747\", \"ranking\": 4, \"layer\": 5}, {\"token\": \" course\", \"prob\": \"0.011499535\", \"ranking\": 5, \"layer\": 5}, {\"token\": \" faith\", \"prob\": \"0.009632221\", \"ranking\": 6, \"layer\": 5}, {\"token\": \" principle\", \"prob\": \"0.009305256\", \"ranking\": 7, \"layer\": 5}, {\"token\": \" personal\", \"prob\": \"0.009230307\", \"ranking\": 8, \"layer\": 5}, {\"token\": \" great\", \"prob\": \"0.008408523\", \"ranking\": 9, \"layer\": 5}, {\"token\": \" public\", \"prob\": \"0.00818359\", \"ranking\": 10, \"layer\": 5}]]\n",
              "            })\n",
              "            pred.init()\n",
              "         }, function (err) {\n",
              "            console.log(viz_id, err);\n",
              "        })"
            ],
            "text/plain": [
              "<IPython.core.display.Javascript object>"
            ]
          },
          "metadata": {}
        }
      ]
    },
    {
      "cell_type": "markdown",
      "metadata": {
        "id": "z1dCPYSL9zUu"
      },
      "source": [
        "This view shows the top 10 candidate tokens, their probability, and their rankings.\n",
        "\n",
        "### Comparing two token candidates for a single position"
      ]
    },
    {
      "cell_type": "code",
      "metadata": {
        "id": "PSQpCZb9YLlw",
        "colab": {
          "base_uri": "https://localhost:8080/"
        },
        "outputId": "50a59b8b-2bc0-41f0-a115-5006973b0300"
      },
      "source": [
        "# What are the token IDs of the two words?\n",
        "lm.tokenizer(\" principle principal\")"
      ],
      "execution_count": 5,
      "outputs": [
        {
          "output_type": "execute_result",
          "data": {
            "text/plain": [
              "{'input_ids': [7989, 10033], 'attention_mask': [1, 1]}"
            ]
          },
          "metadata": {},
          "execution_count": 5
        }
      ]
    },
    {
      "cell_type": "code",
      "metadata": {
        "colab": {
          "base_uri": "https://localhost:8080/",
          "height": 378
        },
        "id": "RdC5MO1yvTvC",
        "outputId": "173c55e6-1c55-4b3f-a6ef-96260dba323e"
      },
      "source": [
        "# Compare the rankings of \"Principle\" and \"Principal\" across layers\n",
        "output_1.rankings_watch(watch=[7989, 10033], position=5)"
      ],
      "execution_count": 6,
      "outputs": [
        {
          "output_type": "display_data",
          "data": {
            "image/png": "[encoded data removed]",
            "text/plain": [
              "<Figure size 201.6x244.8 with 3 Axes>"
            ]
          },
          "metadata": {}
        }
      ]
    },
    {
      "cell_type": "markdown",
      "metadata": {
        "id": "T96DI4wF73fk"
      },
      "source": [
        "## Exploring World Knowledge And Layer Analysis\n",
        "Does the model \"know\" where Heathrow airport is located? To probe the model, we let's try the input sentence: \n",
        "\n",
        "`Heathrow airport is located in ____`"
      ]
    },
    {
      "cell_type": "code",
      "metadata": {
        "id": "e2V8ARTEsF6B",
        "colab": {
          "base_uri": "https://localhost:8080/",
          "height": 48
        },
        "outputId": "231e9cfe-39c8-48ca-ae2b-6284936cb635"
      },
      "source": [
        "text = \" Heathrow airport is located in\"\n",
        "output_2 = lm.generate(text, generate=5, do_sample=False)"
      ],
      "execution_count": 7,
      "outputs": [
        {
          "output_type": "display_data",
          "data": {
            "text/html": [
              "<html lang=\"en\">\n",
              "<script src=\"https://requirejs.org/docs/release/2.3.6/minified/require.js\"></script>\n",
              "<script>\n",
              "    var ecco_url = 'https://storage.googleapis.com/ml-intro/ecco/'\n",
              "    // var ecco_url = 'http://localhost:8000/ecco/'\n",
              "\n",
              "    if (window.ecco === undefined) window.ecco = {}\n",
              "\n",
              "    requirejs.config({\n",
              "        urlArgs: \"bust=\" + (new Date()).getTime(),\n",
              "        nodeRequire: require,\n",
              "        paths: {\n",
              "            d3: \"https://d3js.org/d3.v5.min\",\n",
              "            \"d3-array\": \"https://d3js.org/d3-array.v2.min\",\n",
              "            jquery: \"https://code.jquery.com/jquery-3.5.1.min\",\n",
              "            // oldEcco: ecco_url + 'ecco',\n",
              "            ecco: ecco_url + 'js/0.0.4/ecco-bundle.min',\n",
              "            xregexp: 'https://cdnjs.cloudflare.com/ajax/libs/xregexp/3.2.0/xregexp-all.min'\n",
              "        }\n",
              "    });\n",
              "    requirejs(['d3'],\n",
              "        function (d3) {\n",
              "            d3.select('#css').attr('href', ecco_url + 'html/styles.css')\n",
              "        })\n",
              "\n",
              "    console.log('Ecco initialize.')\n",
              "</script>\n",
              "\n",
              "<head>\n",
              "    <link id='css' rel=\"stylesheet\" type=\"text/css\">\n",
              "</head>\n"
            ],
            "text/plain": [
              "<IPython.core.display.HTML object>"
            ]
          },
          "metadata": {}
        },
        {
          "output_type": "display_data",
          "data": {
            "text/html": [
              "<script>\n",
              "    // console.log('defining basic')\n",
              "    define('basic', ['d3'],\n",
              "        function (d3) {\n",
              "            return {\n",
              "                init: function (viz_id = null) {\n",
              "\n",
              "                    // console.log('basic init')\n",
              "                    if (viz_id == null){\n",
              "                        viz_id = \"viz_\" + Math.round(Math.random() * 10000000)\n",
              "                    }\n",
              "                    const div = d3.select('#basic').attr('id', viz_id),\n",
              "                        div_parent = d3.select('#' + viz_id).node().parentNode\n",
              "\n",
              "                    // Link to CSS file\n",
              "                    d3.select(div_parent).insert('link')\n",
              "                        .attr('rel', 'stylesheet')\n",
              "                        .attr('type', 'text/css')\n",
              "                        .attr('href', ecco_url + 'html/styles.css')\n",
              "\n",
              "                    return viz_id\n",
              "                }\n",
              "            }\n",
              "        }, function (err) {console.log(err);}\n",
              "    )\n",
              "    // console.log('after defining basic')\n",
              "\n",
              "</script>\n",
              "<div id=\"basic\"></div>\n"
            ],
            "text/plain": [
              "<IPython.core.display.HTML object>"
            ]
          },
          "metadata": {}
        },
        {
          "output_type": "display_data",
          "data": {
            "application/javascript": [
              "\n",
              "\n",
              "         requirejs( ['basic', 'ecco'], function(basic, ecco){\n",
              "            basic.init('viz_521156')\n",
              "\n",
              "            window.ecco['viz_521156'] = ecco.renderOutputSequence('viz_521156', {'tokens': [{'token': ' Heath', 'position': 0, 'token_id': 25846, 'type': 'input'}, {'token': 'row', 'position': 1, 'token_id': 808, 'type': 'input'}, {'token': ' airport', 'position': 2, 'token_id': 9003, 'type': 'input'}, {'token': ' is', 'position': 3, 'token_id': 318, 'type': 'input'}, {'token': ' located', 'position': 4, 'token_id': 5140, 'type': 'input'}, {'token': ' in', 'position': 5, 'token_id': 287, 'type': 'input'}]})\n",
              "         }, function (err) {\n",
              "            console.log(err);\n",
              "        })\n"
            ],
            "text/plain": [
              "<IPython.core.display.Javascript object>"
            ]
          },
          "metadata": {}
        },
        {
          "output_type": "display_data",
          "data": {
            "application/javascript": [
              "\n",
              "        // We don't really need these require scripts. But this is to avert\n",
              "        //this code from running before display_input_sequence which DOES require external files\n",
              "        requirejs(['basic', 'ecco'], function(basic, ecco){\n",
              "                console.log('addToken viz_id', 'viz_521156');\n",
              "                window.ecco['viz_521156'].addToken({\"token\": \" the\", \"token_id\": 262, \"position\": 6, \"type\": \"output\"})\n",
              "                window.ecco['viz_521156'].redraw()\n",
              "        })\n",
              "        "
            ],
            "text/plain": [
              "<IPython.core.display.Javascript object>"
            ]
          },
          "metadata": {}
        },
        {
          "output_type": "display_data",
          "data": {
            "application/javascript": [
              "\n",
              "        // We don't really need these require scripts. But this is to avert\n",
              "        //this code from running before display_input_sequence which DOES require external files\n",
              "        requirejs(['basic', 'ecco'], function(basic, ecco){\n",
              "                console.log('addToken viz_id', 'viz_521156');\n",
              "                window.ecco['viz_521156'].addToken({\"token\": \" heart\", \"token_id\": 2612, \"position\": 7, \"type\": \"output\"})\n",
              "                window.ecco['viz_521156'].redraw()\n",
              "        })\n",
              "        "
            ],
            "text/plain": [
              "<IPython.core.display.Javascript object>"
            ]
          },
          "metadata": {}
        },
        {
          "output_type": "display_data",
          "data": {
            "application/javascript": [
              "\n",
              "        // We don't really need these require scripts. But this is to avert\n",
              "        //this code from running before display_input_sequence which DOES require external files\n",
              "        requirejs(['basic', 'ecco'], function(basic, ecco){\n",
              "                console.log('addToken viz_id', 'viz_521156');\n",
              "                window.ecco['viz_521156'].addToken({\"token\": \" of\", \"token_id\": 286, \"position\": 8, \"type\": \"output\"})\n",
              "                window.ecco['viz_521156'].redraw()\n",
              "        })\n",
              "        "
            ],
            "text/plain": [
              "<IPython.core.display.Javascript object>"
            ]
          },
          "metadata": {}
        },
        {
          "output_type": "display_data",
          "data": {
            "application/javascript": [
              "\n",
              "        // We don't really need these require scripts. But this is to avert\n",
              "        //this code from running before display_input_sequence which DOES require external files\n",
              "        requirejs(['basic', 'ecco'], function(basic, ecco){\n",
              "                console.log('addToken viz_id', 'viz_521156');\n",
              "                window.ecco['viz_521156'].addToken({\"token\": \" the\", \"token_id\": 262, \"position\": 9, \"type\": \"output\"})\n",
              "                window.ecco['viz_521156'].redraw()\n",
              "        })\n",
              "        "
            ],
            "text/plain": [
              "<IPython.core.display.Javascript object>"
            ]
          },
          "metadata": {}
        },
        {
          "output_type": "display_data",
          "data": {
            "application/javascript": [
              "\n",
              "        // We don't really need these require scripts. But this is to avert\n",
              "        //this code from running before display_input_sequence which DOES require external files\n",
              "        requirejs(['basic', 'ecco'], function(basic, ecco){\n",
              "                console.log('addToken viz_id', 'viz_521156');\n",
              "                window.ecco['viz_521156'].addToken({\"token\": \" city\", \"token_id\": 1748, \"position\": 10, \"type\": \"output\"})\n",
              "                window.ecco['viz_521156'].redraw()\n",
              "        })\n",
              "        "
            ],
            "text/plain": [
              "<IPython.core.display.Javascript object>"
            ]
          },
          "metadata": {}
        }
      ]
    },
    {
      "cell_type": "markdown",
      "metadata": {
        "id": "Qgy6fqtB_tBJ"
      },
      "source": [
        "While the output is not incorrect, it doesn't really anwer the question we are after. Let's slightly change the input sentence:"
      ]
    },
    {
      "cell_type": "code",
      "metadata": {
        "colab": {
          "base_uri": "https://localhost:8080/",
          "height": 48
        },
        "id": "2E-8avmf8OWc",
        "outputId": "613b50e1-d879-4c66-8a34-78301949b487"
      },
      "source": [
        "text = \" Heathrow airport is located in the city of\"\n",
        "output_2 = lm.generate(text, generate=1, do_sample=False)"
      ],
      "execution_count": 8,
      "outputs": [
        {
          "output_type": "display_data",
          "data": {
            "text/html": [
              "<html lang=\"en\">\n",
              "<script src=\"https://requirejs.org/docs/release/2.3.6/minified/require.js\"></script>\n",
              "<script>\n",
              "    var ecco_url = 'https://storage.googleapis.com/ml-intro/ecco/'\n",
              "    // var ecco_url = 'http://localhost:8000/ecco/'\n",
              "\n",
              "    if (window.ecco === undefined) window.ecco = {}\n",
              "\n",
              "    requirejs.config({\n",
              "        urlArgs: \"bust=\" + (new Date()).getTime(),\n",
              "        nodeRequire: require,\n",
              "        paths: {\n",
              "            d3: \"https://d3js.org/d3.v5.min\",\n",
              "            \"d3-array\": \"https://d3js.org/d3-array.v2.min\",\n",
              "            jquery: \"https://code.jquery.com/jquery-3.5.1.min\",\n",
              "            // oldEcco: ecco_url + 'ecco',\n",
              "            ecco: ecco_url + 'js/0.0.4/ecco-bundle.min',\n",
              "            xregexp: 'https://cdnjs.cloudflare.com/ajax/libs/xregexp/3.2.0/xregexp-all.min'\n",
              "        }\n",
              "    });\n",
              "    requirejs(['d3'],\n",
              "        function (d3) {\n",
              "            d3.select('#css').attr('href', ecco_url + 'html/styles.css')\n",
              "        })\n",
              "\n",
              "    console.log('Ecco initialize.')\n",
              "</script>\n",
              "\n",
              "<head>\n",
              "    <link id='css' rel=\"stylesheet\" type=\"text/css\">\n",
              "</head>\n"
            ],
            "text/plain": [
              "<IPython.core.display.HTML object>"
            ]
          },
          "metadata": {}
        },
        {
          "output_type": "display_data",
          "data": {
            "text/html": [
              "<script>\n",
              "    // console.log('defining basic')\n",
              "    define('basic', ['d3'],\n",
              "        function (d3) {\n",
              "            return {\n",
              "                init: function (viz_id = null) {\n",
              "\n",
              "                    // console.log('basic init')\n",
              "                    if (viz_id == null){\n",
              "                        viz_id = \"viz_\" + Math.round(Math.random() * 10000000)\n",
              "                    }\n",
              "                    const div = d3.select('#basic').attr('id', viz_id),\n",
              "                        div_parent = d3.select('#' + viz_id).node().parentNode\n",
              "\n",
              "                    // Link to CSS file\n",
              "                    d3.select(div_parent).insert('link')\n",
              "                        .attr('rel', 'stylesheet')\n",
              "                        .attr('type', 'text/css')\n",
              "                        .attr('href', ecco_url + 'html/styles.css')\n",
              "\n",
              "                    return viz_id\n",
              "                }\n",
              "            }\n",
              "        }, function (err) {console.log(err);}\n",
              "    )\n",
              "    // console.log('after defining basic')\n",
              "\n",
              "</script>\n",
              "<div id=\"basic\"></div>\n"
            ],
            "text/plain": [
              "<IPython.core.display.HTML object>"
            ]
          },
          "metadata": {}
        },
        {
          "output_type": "display_data",
          "data": {
            "application/javascript": [
              "\n",
              "\n",
              "         requirejs( ['basic', 'ecco'], function(basic, ecco){\n",
              "            basic.init('viz_368010')\n",
              "\n",
              "            window.ecco['viz_368010'] = ecco.renderOutputSequence('viz_368010', {'tokens': [{'token': ' Heath', 'position': 0, 'token_id': 25846, 'type': 'input'}, {'token': 'row', 'position': 1, 'token_id': 808, 'type': 'input'}, {'token': ' airport', 'position': 2, 'token_id': 9003, 'type': 'input'}, {'token': ' is', 'position': 3, 'token_id': 318, 'type': 'input'}, {'token': ' located', 'position': 4, 'token_id': 5140, 'type': 'input'}, {'token': ' in', 'position': 5, 'token_id': 287, 'type': 'input'}, {'token': ' the', 'position': 6, 'token_id': 262, 'type': 'input'}, {'token': ' city', 'position': 7, 'token_id': 1748, 'type': 'input'}, {'token': ' of', 'position': 8, 'token_id': 286, 'type': 'input'}]})\n",
              "         }, function (err) {\n",
              "            console.log(err);\n",
              "        })\n"
            ],
            "text/plain": [
              "<IPython.core.display.Javascript object>"
            ]
          },
          "metadata": {}
        },
        {
          "output_type": "display_data",
          "data": {
            "application/javascript": [
              "\n",
              "        // We don't really need these require scripts. But this is to avert\n",
              "        //this code from running before display_input_sequence which DOES require external files\n",
              "        requirejs(['basic', 'ecco'], function(basic, ecco){\n",
              "                console.log('addToken viz_id', 'viz_368010');\n",
              "                window.ecco['viz_368010'].addToken({\"token\": \" London\", \"token_id\": 3576, \"position\": 9, \"type\": \"output\"})\n",
              "                window.ecco['viz_368010'].redraw()\n",
              "        })\n",
              "        "
            ],
            "text/plain": [
              "<IPython.core.display.Javascript object>"
            ]
          },
          "metadata": {}
        }
      ]
    },
    {
      "cell_type": "code",
      "metadata": {
        "colab": {
          "base_uri": "https://localhost:8080/",
          "height": 326
        },
        "id": "Ws7tKJ_K8Wcg",
        "outputId": "97b5e0e1-343d-44a3-f853-bc94a1280d8f"
      },
      "source": [
        "# What other tokens were possible to output in place of \"London\"?\n",
        "output_2.layer_predictions(position=9, layer=5, topk=30)"
      ],
      "execution_count": 9,
      "outputs": [
        {
          "output_type": "display_data",
          "data": {
            "text/html": [
              "<html lang=\"en\">\n",
              "<script src=\"https://requirejs.org/docs/release/2.3.6/minified/require.js\"></script>\n",
              "<script>\n",
              "    var ecco_url = 'https://storage.googleapis.com/ml-intro/ecco/'\n",
              "    // var ecco_url = 'http://localhost:8000/ecco/'\n",
              "\n",
              "    if (window.ecco === undefined) window.ecco = {}\n",
              "\n",
              "    requirejs.config({\n",
              "        urlArgs: \"bust=\" + (new Date()).getTime(),\n",
              "        nodeRequire: require,\n",
              "        paths: {\n",
              "            d3: \"https://d3js.org/d3.v5.min\",\n",
              "            \"d3-array\": \"https://d3js.org/d3-array.v2.min\",\n",
              "            jquery: \"https://code.jquery.com/jquery-3.5.1.min\",\n",
              "            // oldEcco: ecco_url + 'ecco',\n",
              "            ecco: ecco_url + 'js/0.0.4/ecco-bundle.min',\n",
              "            xregexp: 'https://cdnjs.cloudflare.com/ajax/libs/xregexp/3.2.0/xregexp-all.min'\n",
              "        }\n",
              "    });\n",
              "    requirejs(['d3'],\n",
              "        function (d3) {\n",
              "            d3.select('#css').attr('href', ecco_url + 'html/styles.css')\n",
              "        })\n",
              "\n",
              "    console.log('Ecco initialize.')\n",
              "</script>\n",
              "\n",
              "<head>\n",
              "    <link id='css' rel=\"stylesheet\" type=\"text/css\">\n",
              "</head>\n"
            ],
            "text/plain": [
              "<IPython.core.display.HTML object>"
            ]
          },
          "metadata": {}
        },
        {
          "output_type": "display_data",
          "data": {
            "text/html": [
              "<script>\n",
              "    // console.log('defining basic')\n",
              "    define('basic', ['d3'],\n",
              "        function (d3) {\n",
              "            return {\n",
              "                init: function (viz_id = null) {\n",
              "\n",
              "                    // console.log('basic init')\n",
              "                    if (viz_id == null){\n",
              "                        viz_id = \"viz_\" + Math.round(Math.random() * 10000000)\n",
              "                    }\n",
              "                    const div = d3.select('#basic').attr('id', viz_id),\n",
              "                        div_parent = d3.select('#' + viz_id).node().parentNode\n",
              "\n",
              "                    // Link to CSS file\n",
              "                    d3.select(div_parent).insert('link')\n",
              "                        .attr('rel', 'stylesheet')\n",
              "                        .attr('type', 'text/css')\n",
              "                        .attr('href', ecco_url + 'html/styles.css')\n",
              "\n",
              "                    return viz_id\n",
              "                }\n",
              "            }\n",
              "        }, function (err) {console.log(err);}\n",
              "    )\n",
              "    // console.log('after defining basic')\n",
              "\n",
              "</script>\n",
              "<div id=\"basic\"></div>\n"
            ],
            "text/plain": [
              "<IPython.core.display.HTML object>"
            ]
          },
          "metadata": {}
        },
        {
          "output_type": "display_data",
          "data": {
            "application/javascript": [
              "\n",
              "         requirejs(['basic', 'ecco'], function(basic, ecco){\n",
              "            const viz_id = basic.init()\n",
              "\n",
              "\n",
              "            let pred = new ecco.LayerPredictions({\n",
              "                parentDiv: viz_id,\n",
              "                data:[[{\"token\": \" London\", \"prob\": \"0.13281083\", \"ranking\": 1, \"layer\": 5}, {\"token\": \" Birmingham\", \"prob\": \"0.06064123\", \"ranking\": 2, \"layer\": 5}, {\"token\": \" Manchester\", \"prob\": \"0.036828216\", \"ranking\": 3, \"layer\": 5}, {\"token\": \" Glasgow\", \"prob\": \"0.0156107135\", \"ranking\": 4, \"layer\": 5}, {\"token\": \" Edinburgh\", \"prob\": \"0.012735456\", \"ranking\": 5, \"layer\": 5}, {\"token\": \" Liverpool\", \"prob\": \"0.011518745\", \"ranking\": 6, \"layer\": 5}, {\"token\": \" Bristol\", \"prob\": \"0.011411636\", \"ranking\": 7, \"layer\": 5}, {\"token\": \" Leeds\", \"prob\": \"0.011315532\", \"ranking\": 8, \"layer\": 5}, {\"token\": \" Belfast\", \"prob\": \"0.011035166\", \"ranking\": 9, \"layer\": 5}, {\"token\": \" Brighton\", \"prob\": \"0.010986359\", \"ranking\": 10, \"layer\": 5}, {\"token\": \" Sheffield\", \"prob\": \"0.009908097\", \"ranking\": 11, \"layer\": 5}, {\"token\": \" Dublin\", \"prob\": \"0.009576625\", \"ranking\": 12, \"layer\": 5}, {\"token\": \" Cov\", \"prob\": \"0.009328982\", \"ranking\": 13, \"layer\": 5}, {\"token\": \" D\", \"prob\": \"0.00873773\", \"ranking\": 14, \"layer\": 5}, {\"token\": \" Dund\", \"prob\": \"0.008347085\", \"ranking\": 15, \"layer\": 5}, {\"token\": \" St\", \"prob\": \"0.008127824\", \"ranking\": 16, \"layer\": 5}, {\"token\": \" Cambridge\", \"prob\": \"0.0077230306\", \"ranking\": 17, \"layer\": 5}, {\"token\": \" Toronto\", \"prob\": \"0.00713806\", \"ranking\": 18, \"layer\": 5}, {\"token\": \" Chelsea\", \"prob\": \"0.006981064\", \"ranking\": 19, \"layer\": 5}, {\"token\": \" W\", \"prob\": \"0.006370264\", \"ranking\": 20, \"layer\": 5}, {\"token\": \" Newcastle\", \"prob\": \"0.0063533247\", \"ranking\": 21, \"layer\": 5}, {\"token\": \" Nottingham\", \"prob\": \"0.00617757\", \"ranking\": 22, \"layer\": 5}, {\"token\": \" G\", \"prob\": \"0.005884209\", \"ranking\": 23, \"layer\": 5}, {\"token\": \" T\", \"prob\": \"0.005857759\", \"ranking\": 24, \"layer\": 5}, {\"token\": \" Westminster\", \"prob\": \"0.0056814784\", \"ranking\": 25, \"layer\": 5}, {\"token\": \" B\", \"prob\": \"0.0056101703\", \"ranking\": 26, \"layer\": 5}, {\"token\": \" Surrey\", \"prob\": \"0.0055002114\", \"ranking\": 27, \"layer\": 5}, {\"token\": \" C\", \"prob\": \"0.0052068\", \"ranking\": 28, \"layer\": 5}, {\"token\": \" New\", \"prob\": \"0.004981762\", \"ranking\": 29, \"layer\": 5}, {\"token\": \" L\", \"prob\": \"0.0048823133\", \"ranking\": 30, \"layer\": 5}]]\n",
              "            })\n",
              "            pred.init()\n",
              "         }, function (err) {\n",
              "            console.log(viz_id, err);\n",
              "        })"
            ],
            "text/plain": [
              "<IPython.core.display.Javascript object>"
            ]
          },
          "metadata": {}
        }
      ]
    },
    {
      "cell_type": "code",
      "metadata": {
        "colab": {
          "base_uri": "https://localhost:8080/",
          "height": 326
        },
        "id": "HrkMe1rI8kCF",
        "outputId": "ecedaf45-dcfb-4b4c-fa3a-a6bbc79cbe9c"
      },
      "source": [
        "# Now that the model has selcted the tokens \"London . \\n\"\n",
        "# How did each layer rank these tokens during processing?\n",
        "output_2.rankings()"
      ],
      "execution_count": 10,
      "outputs": [
        {
          "output_type": "display_data",
          "data": {
            "image/png": "[encoded data removed]",
            "text/plain": [
              "<Figure size 136.8x244.8 with 3 Axes>"
            ]
          },
          "metadata": {}
        }
      ]
    },
    {
      "cell_type": "markdown",
      "metadata": {
        "id": "1Qelsn_jZlIE"
      },
      "source": [
        "This visualization is based on the great visual treatment by nostalgebraist in [Interpreting GPT: the logit lens](https://www.lesswrong.com/posts/AcKRB8wDpdaN6v6ru/interpreting-gpt-the-logit-lens)."
      ]
    },
    {
      "cell_type": "markdown",
      "metadata": {
        "id": "UcD1w1HP9hWO"
      },
      "source": [
        "### Probing the model's world knowledge \n",
        "\n",
        "What happens if we present the following input sentence to the model:\n",
        "\n",
        "`The countries of the European Union are:\\n1. Austria\\n2. Belgium\\n3. Bulgaria\\n4. ___________`\n",
        "\n",
        "Namely, we have these questions:\n",
        "* Q. Will the model continue the numbering correctly?\n",
        "* Q. Will it succeed in following the formatting?\n",
        "* Q. Will it succeed in naming countries? European ones?\n",
        "* Q. Will the model \"notice\" the alphabetical order of the list? Will it follow it?\n"
      ]
    },
    {
      "cell_type": "code",
      "metadata": {
        "colab": {
          "base_uri": "https://localhost:8080/",
          "height": 327
        },
        "id": "X72IPVlJ8_8r",
        "outputId": "49fd3749-5764-41a6-c897-c3d7d173555d"
      },
      "source": [
        "text= \"The countries of the European Union are:\\n1. Austria\\n2. Belgium\\n3. Bulgaria\\n4.\"\n",
        "\n",
        "output_3 = lm.generate(text, generate=20, do_sample=True)"
      ],
      "execution_count": 11,
      "outputs": [
        {
          "output_type": "display_data",
          "data": {
            "text/html": [
              "<html lang=\"en\">\n",
              "<script src=\"https://requirejs.org/docs/release/2.3.6/minified/require.js\"></script>\n",
              "<script>\n",
              "    var ecco_url = 'https://storage.googleapis.com/ml-intro/ecco/'\n",
              "    // var ecco_url = 'http://localhost:8000/ecco/'\n",
              "\n",
              "    if (window.ecco === undefined) window.ecco = {}\n",
              "\n",
              "    requirejs.config({\n",
              "        urlArgs: \"bust=\" + (new Date()).getTime(),\n",
              "        nodeRequire: require,\n",
              "        paths: {\n",
              "            d3: \"https://d3js.org/d3.v5.min\",\n",
              "            \"d3-array\": \"https://d3js.org/d3-array.v2.min\",\n",
              "            jquery: \"https://code.jquery.com/jquery-3.5.1.min\",\n",
              "            // oldEcco: ecco_url + 'ecco',\n",
              "            ecco: ecco_url + 'js/0.0.4/ecco-bundle.min',\n",
              "            xregexp: 'https://cdnjs.cloudflare.com/ajax/libs/xregexp/3.2.0/xregexp-all.min'\n",
              "        }\n",
              "    });\n",
              "    requirejs(['d3'],\n",
              "        function (d3) {\n",
              "            d3.select('#css').attr('href', ecco_url + 'html/styles.css')\n",
              "        })\n",
              "\n",
              "    console.log('Ecco initialize.')\n",
              "</script>\n",
              "\n",
              "<head>\n",
              "    <link id='css' rel=\"stylesheet\" type=\"text/css\">\n",
              "</head>\n"
            ],
            "text/plain": [
              "<IPython.core.display.HTML object>"
            ]
          },
          "metadata": {}
        },
        {
          "output_type": "display_data",
          "data": {
            "text/html": [
              "<script>\n",
              "    // console.log('defining basic')\n",
              "    define('basic', ['d3'],\n",
              "        function (d3) {\n",
              "            return {\n",
              "                init: function (viz_id = null) {\n",
              "\n",
              "                    // console.log('basic init')\n",
              "                    if (viz_id == null){\n",
              "                        viz_id = \"viz_\" + Math.round(Math.random() * 10000000)\n",
              "                    }\n",
              "                    const div = d3.select('#basic').attr('id', viz_id),\n",
              "                        div_parent = d3.select('#' + viz_id).node().parentNode\n",
              "\n",
              "                    // Link to CSS file\n",
              "                    d3.select(div_parent).insert('link')\n",
              "                        .attr('rel', 'stylesheet')\n",
              "                        .attr('type', 'text/css')\n",
              "                        .attr('href', ecco_url + 'html/styles.css')\n",
              "\n",
              "                    return viz_id\n",
              "                }\n",
              "            }\n",
              "        }, function (err) {console.log(err);}\n",
              "    )\n",
              "    // console.log('after defining basic')\n",
              "\n",
              "</script>\n",
              "<div id=\"basic\"></div>\n"
            ],
            "text/plain": [
              "<IPython.core.display.HTML object>"
            ]
          },
          "metadata": {}
        },
        {
          "output_type": "display_data",
          "data": {
            "application/javascript": [
              "\n",
              "\n",
              "         requirejs( ['basic', 'ecco'], function(basic, ecco){\n",
              "            basic.init('viz_983175')\n",
              "\n",
              "            window.ecco['viz_983175'] = ecco.renderOutputSequence('viz_983175', {'tokens': [{'token': 'The', 'position': 0, 'token_id': 464, 'type': 'input'}, {'token': ' countries', 'position': 1, 'token_id': 2678, 'type': 'input'}, {'token': ' of', 'position': 2, 'token_id': 286, 'type': 'input'}, {'token': ' the', 'position': 3, 'token_id': 262, 'type': 'input'}, {'token': ' European', 'position': 4, 'token_id': 3427, 'type': 'input'}, {'token': ' Union', 'position': 5, 'token_id': 4479, 'type': 'input'}, {'token': ' are', 'position': 6, 'token_id': 389, 'type': 'input'}, {'token': ':', 'position': 7, 'token_id': 25, 'type': 'input'}, {'token': '\\n', 'position': 8, 'token_id': 198, 'type': 'input'}, {'token': '1', 'position': 9, 'token_id': 16, 'type': 'input'}, {'token': '.', 'position': 10, 'token_id': 13, 'type': 'input'}, {'token': ' Austria', 'position': 11, 'token_id': 17322, 'type': 'input'}, {'token': '\\n', 'position': 12, 'token_id': 198, 'type': 'input'}, {'token': '2', 'position': 13, 'token_id': 17, 'type': 'input'}, {'token': '.', 'position': 14, 'token_id': 13, 'type': 'input'}, {'token': ' Belgium', 'position': 15, 'token_id': 15664, 'type': 'input'}, {'token': '\\n', 'position': 16, 'token_id': 198, 'type': 'input'}, {'token': '3', 'position': 17, 'token_id': 18, 'type': 'input'}, {'token': '.', 'position': 18, 'token_id': 13, 'type': 'input'}, {'token': ' Bulgaria', 'position': 19, 'token_id': 27902, 'type': 'input'}, {'token': '\\n', 'position': 20, 'token_id': 198, 'type': 'input'}, {'token': '4', 'position': 21, 'token_id': 19, 'type': 'input'}, {'token': '.', 'position': 22, 'token_id': 13, 'type': 'input'}]})\n",
              "         }, function (err) {\n",
              "            console.log(err);\n",
              "        })\n"
            ],
            "text/plain": [
              "<IPython.core.display.Javascript object>"
            ]
          },
          "metadata": {}
        },
        {
          "output_type": "display_data",
          "data": {
            "application/javascript": [
              "\n",
              "        // We don't really need these require scripts. But this is to avert\n",
              "        //this code from running before display_input_sequence which DOES require external files\n",
              "        requirejs(['basic', 'ecco'], function(basic, ecco){\n",
              "                console.log('addToken viz_id', 'viz_983175');\n",
              "                window.ecco['viz_983175'].addToken({\"token\": \" Finland\", \"token_id\": 17837, \"position\": 23, \"type\": \"output\"})\n",
              "                window.ecco['viz_983175'].redraw()\n",
              "        })\n",
              "        "
            ],
            "text/plain": [
              "<IPython.core.display.Javascript object>"
            ]
          },
          "metadata": {}
        },
        {
          "output_type": "display_data",
          "data": {
            "application/javascript": [
              "\n",
              "        // We don't really need these require scripts. But this is to avert\n",
              "        //this code from running before display_input_sequence which DOES require external files\n",
              "        requirejs(['basic', 'ecco'], function(basic, ecco){\n",
              "                console.log('addToken viz_id', 'viz_983175');\n",
              "                window.ecco['viz_983175'].addToken({\"token\": \"\\n\", \"token_id\": 198, \"position\": 24, \"type\": \"output\"})\n",
              "                window.ecco['viz_983175'].redraw()\n",
              "        })\n",
              "        "
            ],
            "text/plain": [
              "<IPython.core.display.Javascript object>"
            ]
          },
          "metadata": {}
        },
        {
          "output_type": "display_data",
          "data": {
            "application/javascript": [
              "\n",
              "        // We don't really need these require scripts. But this is to avert\n",
              "        //this code from running before display_input_sequence which DOES require external files\n",
              "        requirejs(['basic', 'ecco'], function(basic, ecco){\n",
              "                console.log('addToken viz_id', 'viz_983175');\n",
              "                window.ecco['viz_983175'].addToken({\"token\": \"5\", \"token_id\": 20, \"position\": 25, \"type\": \"output\"})\n",
              "                window.ecco['viz_983175'].redraw()\n",
              "        })\n",
              "        "
            ],
            "text/plain": [
              "<IPython.core.display.Javascript object>"
            ]
          },
          "metadata": {}
        },
        {
          "output_type": "display_data",
          "data": {
            "application/javascript": [
              "\n",
              "        // We don't really need these require scripts. But this is to avert\n",
              "        //this code from running before display_input_sequence which DOES require external files\n",
              "        requirejs(['basic', 'ecco'], function(basic, ecco){\n",
              "                console.log('addToken viz_id', 'viz_983175');\n",
              "                window.ecco['viz_983175'].addToken({\"token\": \".\", \"token_id\": 13, \"position\": 26, \"type\": \"output\"})\n",
              "                window.ecco['viz_983175'].redraw()\n",
              "        })\n",
              "        "
            ],
            "text/plain": [
              "<IPython.core.display.Javascript object>"
            ]
          },
          "metadata": {}
        },
        {
          "output_type": "display_data",
          "data": {
            "application/javascript": [
              "\n",
              "        // We don't really need these require scripts. But this is to avert\n",
              "        //this code from running before display_input_sequence which DOES require external files\n",
              "        requirejs(['basic', 'ecco'], function(basic, ecco){\n",
              "                console.log('addToken viz_id', 'viz_983175');\n",
              "                window.ecco['viz_983175'].addToken({\"token\": \" Czech\", \"token_id\": 16639, \"position\": 27, \"type\": \"output\"})\n",
              "                window.ecco['viz_983175'].redraw()\n",
              "        })\n",
              "        "
            ],
            "text/plain": [
              "<IPython.core.display.Javascript object>"
            ]
          },
          "metadata": {}
        },
        {
          "output_type": "display_data",
          "data": {
            "application/javascript": [
              "\n",
              "        // We don't really need these require scripts. But this is to avert\n",
              "        //this code from running before display_input_sequence which DOES require external files\n",
              "        requirejs(['basic', 'ecco'], function(basic, ecco){\n",
              "                console.log('addToken viz_id', 'viz_983175');\n",
              "                window.ecco['viz_983175'].addToken({\"token\": \" Republic\", \"token_id\": 2066, \"position\": 28, \"type\": \"output\"})\n",
              "                window.ecco['viz_983175'].redraw()\n",
              "        })\n",
              "        "
            ],
            "text/plain": [
              "<IPython.core.display.Javascript object>"
            ]
          },
          "metadata": {}
        },
        {
          "output_type": "display_data",
          "data": {
            "application/javascript": [
              "\n",
              "        // We don't really need these require scripts. But this is to avert\n",
              "        //this code from running before display_input_sequence which DOES require external files\n",
              "        requirejs(['basic', 'ecco'], function(basic, ecco){\n",
              "                console.log('addToken viz_id', 'viz_983175');\n",
              "                window.ecco['viz_983175'].addToken({\"token\": \"\\n\", \"token_id\": 198, \"position\": 29, \"type\": \"output\"})\n",
              "                window.ecco['viz_983175'].redraw()\n",
              "        })\n",
              "        "
            ],
            "text/plain": [
              "<IPython.core.display.Javascript object>"
            ]
          },
          "metadata": {}
        },
        {
          "output_type": "display_data",
          "data": {
            "application/javascript": [
              "\n",
              "        // We don't really need these require scripts. But this is to avert\n",
              "        //this code from running before display_input_sequence which DOES require external files\n",
              "        requirejs(['basic', 'ecco'], function(basic, ecco){\n",
              "                console.log('addToken viz_id', 'viz_983175');\n",
              "                window.ecco['viz_983175'].addToken({\"token\": \"6\", \"token_id\": 21, \"position\": 30, \"type\": \"output\"})\n",
              "                window.ecco['viz_983175'].redraw()\n",
              "        })\n",
              "        "
            ],
            "text/plain": [
              "<IPython.core.display.Javascript object>"
            ]
          },
          "metadata": {}
        },
        {
          "output_type": "display_data",
          "data": {
            "application/javascript": [
              "\n",
              "        // We don't really need these require scripts. But this is to avert\n",
              "        //this code from running before display_input_sequence which DOES require external files\n",
              "        requirejs(['basic', 'ecco'], function(basic, ecco){\n",
              "                console.log('addToken viz_id', 'viz_983175');\n",
              "                window.ecco['viz_983175'].addToken({\"token\": \".\", \"token_id\": 13, \"position\": 31, \"type\": \"output\"})\n",
              "                window.ecco['viz_983175'].redraw()\n",
              "        })\n",
              "        "
            ],
            "text/plain": [
              "<IPython.core.display.Javascript object>"
            ]
          },
          "metadata": {}
        },
        {
          "output_type": "display_data",
          "data": {
            "application/javascript": [
              "\n",
              "        // We don't really need these require scripts. But this is to avert\n",
              "        //this code from running before display_input_sequence which DOES require external files\n",
              "        requirejs(['basic', 'ecco'], function(basic, ecco){\n",
              "                console.log('addToken viz_id', 'viz_983175');\n",
              "                window.ecco['viz_983175'].addToken({\"token\": \" Germany\", \"token_id\": 4486, \"position\": 32, \"type\": \"output\"})\n",
              "                window.ecco['viz_983175'].redraw()\n",
              "        })\n",
              "        "
            ],
            "text/plain": [
              "<IPython.core.display.Javascript object>"
            ]
          },
          "metadata": {}
        },
        {
          "output_type": "display_data",
          "data": {
            "application/javascript": [
              "\n",
              "        // We don't really need these require scripts. But this is to avert\n",
              "        //this code from running before display_input_sequence which DOES require external files\n",
              "        requirejs(['basic', 'ecco'], function(basic, ecco){\n",
              "                console.log('addToken viz_id', 'viz_983175');\n",
              "                window.ecco['viz_983175'].addToken({\"token\": \"\\n\", \"token_id\": 198, \"position\": 33, \"type\": \"output\"})\n",
              "                window.ecco['viz_983175'].redraw()\n",
              "        })\n",
              "        "
            ],
            "text/plain": [
              "<IPython.core.display.Javascript object>"
            ]
          },
          "metadata": {}
        },
        {
          "output_type": "display_data",
          "data": {
            "application/javascript": [
              "\n",
              "        // We don't really need these require scripts. But this is to avert\n",
              "        //this code from running before display_input_sequence which DOES require external files\n",
              "        requirejs(['basic', 'ecco'], function(basic, ecco){\n",
              "                console.log('addToken viz_id', 'viz_983175');\n",
              "                window.ecco['viz_983175'].addToken({\"token\": \"7\", \"token_id\": 22, \"position\": 34, \"type\": \"output\"})\n",
              "                window.ecco['viz_983175'].redraw()\n",
              "        })\n",
              "        "
            ],
            "text/plain": [
              "<IPython.core.display.Javascript object>"
            ]
          },
          "metadata": {}
        },
        {
          "output_type": "display_data",
          "data": {
            "application/javascript": [
              "\n",
              "        // We don't really need these require scripts. But this is to avert\n",
              "        //this code from running before display_input_sequence which DOES require external files\n",
              "        requirejs(['basic', 'ecco'], function(basic, ecco){\n",
              "                console.log('addToken viz_id', 'viz_983175');\n",
              "                window.ecco['viz_983175'].addToken({\"token\": \".\", \"token_id\": 13, \"position\": 35, \"type\": \"output\"})\n",
              "                window.ecco['viz_983175'].redraw()\n",
              "        })\n",
              "        "
            ],
            "text/plain": [
              "<IPython.core.display.Javascript object>"
            ]
          },
          "metadata": {}
        },
        {
          "output_type": "display_data",
          "data": {
            "application/javascript": [
              "\n",
              "        // We don't really need these require scripts. But this is to avert\n",
              "        //this code from running before display_input_sequence which DOES require external files\n",
              "        requirejs(['basic', 'ecco'], function(basic, ecco){\n",
              "                console.log('addToken viz_id', 'viz_983175');\n",
              "                window.ecco['viz_983175'].addToken({\"token\": \" France\", \"token_id\": 4881, \"position\": 36, \"type\": \"output\"})\n",
              "                window.ecco['viz_983175'].redraw()\n",
              "        })\n",
              "        "
            ],
            "text/plain": [
              "<IPython.core.display.Javascript object>"
            ]
          },
          "metadata": {}
        },
        {
          "output_type": "display_data",
          "data": {
            "application/javascript": [
              "\n",
              "        // We don't really need these require scripts. But this is to avert\n",
              "        //this code from running before display_input_sequence which DOES require external files\n",
              "        requirejs(['basic', 'ecco'], function(basic, ecco){\n",
              "                console.log('addToken viz_id', 'viz_983175');\n",
              "                window.ecco['viz_983175'].addToken({\"token\": \"\\n\", \"token_id\": 198, \"position\": 37, \"type\": \"output\"})\n",
              "                window.ecco['viz_983175'].redraw()\n",
              "        })\n",
              "        "
            ],
            "text/plain": [
              "<IPython.core.display.Javascript object>"
            ]
          },
          "metadata": {}
        },
        {
          "output_type": "display_data",
          "data": {
            "application/javascript": [
              "\n",
              "        // We don't really need these require scripts. But this is to avert\n",
              "        //this code from running before display_input_sequence which DOES require external files\n",
              "        requirejs(['basic', 'ecco'], function(basic, ecco){\n",
              "                console.log('addToken viz_id', 'viz_983175');\n",
              "                window.ecco['viz_983175'].addToken({\"token\": \"8\", \"token_id\": 23, \"position\": 38, \"type\": \"output\"})\n",
              "                window.ecco['viz_983175'].redraw()\n",
              "        })\n",
              "        "
            ],
            "text/plain": [
              "<IPython.core.display.Javascript object>"
            ]
          },
          "metadata": {}
        },
        {
          "output_type": "display_data",
          "data": {
            "application/javascript": [
              "\n",
              "        // We don't really need these require scripts. But this is to avert\n",
              "        //this code from running before display_input_sequence which DOES require external files\n",
              "        requirejs(['basic', 'ecco'], function(basic, ecco){\n",
              "                console.log('addToken viz_id', 'viz_983175');\n",
              "                window.ecco['viz_983175'].addToken({\"token\": \".\", \"token_id\": 13, \"position\": 39, \"type\": \"output\"})\n",
              "                window.ecco['viz_983175'].redraw()\n",
              "        })\n",
              "        "
            ],
            "text/plain": [
              "<IPython.core.display.Javascript object>"
            ]
          },
          "metadata": {}
        },
        {
          "output_type": "display_data",
          "data": {
            "application/javascript": [
              "\n",
              "        // We don't really need these require scripts. But this is to avert\n",
              "        //this code from running before display_input_sequence which DOES require external files\n",
              "        requirejs(['basic', 'ecco'], function(basic, ecco){\n",
              "                console.log('addToken viz_id', 'viz_983175');\n",
              "                window.ecco['viz_983175'].addToken({\"token\": \" Greece\", \"token_id\": 10315, \"position\": 40, \"type\": \"output\"})\n",
              "                window.ecco['viz_983175'].redraw()\n",
              "        })\n",
              "        "
            ],
            "text/plain": [
              "<IPython.core.display.Javascript object>"
            ]
          },
          "metadata": {}
        },
        {
          "output_type": "display_data",
          "data": {
            "application/javascript": [
              "\n",
              "        // We don't really need these require scripts. But this is to avert\n",
              "        //this code from running before display_input_sequence which DOES require external files\n",
              "        requirejs(['basic', 'ecco'], function(basic, ecco){\n",
              "                console.log('addToken viz_id', 'viz_983175');\n",
              "                window.ecco['viz_983175'].addToken({\"token\": \"\\n\", \"token_id\": 198, \"position\": 41, \"type\": \"output\"})\n",
              "                window.ecco['viz_983175'].redraw()\n",
              "        })\n",
              "        "
            ],
            "text/plain": [
              "<IPython.core.display.Javascript object>"
            ]
          },
          "metadata": {}
        },
        {
          "output_type": "display_data",
          "data": {
            "application/javascript": [
              "\n",
              "        // We don't really need these require scripts. But this is to avert\n",
              "        //this code from running before display_input_sequence which DOES require external files\n",
              "        requirejs(['basic', 'ecco'], function(basic, ecco){\n",
              "                console.log('addToken viz_id', 'viz_983175');\n",
              "                window.ecco['viz_983175'].addToken({\"token\": \"9\", \"token_id\": 24, \"position\": 42, \"type\": \"output\"})\n",
              "                window.ecco['viz_983175'].redraw()\n",
              "        })\n",
              "        "
            ],
            "text/plain": [
              "<IPython.core.display.Javascript object>"
            ]
          },
          "metadata": {}
        }
      ]
    },
    {
      "cell_type": "markdown",
      "metadata": {
        "id": "r-ikx4AVBvLK"
      },
      "source": [
        "The `rankings()` visualization view shows us at which layers the model resolved the output token for each position."
      ]
    },
    {
      "cell_type": "code",
      "metadata": {
        "colab": {
          "base_uri": "https://localhost:8080/",
          "height": 343
        },
        "id": "bI2OpemBE5cG",
        "outputId": "87981ae9-749e-4d9d-ccd7-b99392e823f0"
      },
      "source": [
        "output_3.rankings()"
      ],
      "execution_count": 12,
      "outputs": [
        {
          "output_type": "display_data",
          "data": {
            "image/png": "[encoded data removed]",
            "text/plain": [
              "<Figure size 1368x244.8 with 3 Axes>"
            ]
          },
          "metadata": {}
        }
      ]
    },
    {
      "cell_type": "markdown",
      "metadata": {
        "id": "XJ-5kli5CGyf"
      },
      "source": [
        "The `saliency()` visualization shows which tokens contributed the most towards generating each output token (using the gradient X Input method):"
      ]
    },
    {
      "cell_type": "code",
      "metadata": {
        "colab": {
          "base_uri": "https://localhost:8080/",
          "height": 227
        },
        "id": "D-nKpXW5FPlY",
        "outputId": "bad83c7a-b637-46c2-f98a-59f5a51e0388"
      },
      "source": [
        "output_3.saliency()"
      ],
      "execution_count": 13,
      "outputs": [
        {
          "output_type": "display_data",
          "data": {
            "text/html": [
              "<html lang=\"en\">\n",
              "<script src=\"https://requirejs.org/docs/release/2.3.6/minified/require.js\"></script>\n",
              "<script>\n",
              "    var ecco_url = 'https://storage.googleapis.com/ml-intro/ecco/'\n",
              "    // var ecco_url = 'http://localhost:8000/ecco/'\n",
              "\n",
              "    if (window.ecco === undefined) window.ecco = {}\n",
              "\n",
              "    requirejs.config({\n",
              "        urlArgs: \"bust=\" + (new Date()).getTime(),\n",
              "        nodeRequire: require,\n",
              "        paths: {\n",
              "            d3: \"https://d3js.org/d3.v5.min\",\n",
              "            \"d3-array\": \"https://d3js.org/d3-array.v2.min\",\n",
              "            jquery: \"https://code.jquery.com/jquery-3.5.1.min\",\n",
              "            // oldEcco: ecco_url + 'ecco',\n",
              "            ecco: ecco_url + 'js/0.0.4/ecco-bundle.min',\n",
              "            xregexp: 'https://cdnjs.cloudflare.com/ajax/libs/xregexp/3.2.0/xregexp-all.min'\n",
              "        }\n",
              "    });\n",
              "    requirejs(['d3'],\n",
              "        function (d3) {\n",
              "            d3.select('#css').attr('href', ecco_url + 'html/styles.css')\n",
              "        })\n",
              "\n",
              "    console.log('Ecco initialize.')\n",
              "</script>\n",
              "\n",
              "<head>\n",
              "    <link id='css' rel=\"stylesheet\" type=\"text/css\">\n",
              "</head>\n"
            ],
            "text/plain": [
              "<IPython.core.display.HTML object>"
            ]
          },
          "metadata": {}
        },
        {
          "output_type": "display_data",
          "data": {
            "text/html": [
              "<script>\n",
              "    // console.log('defining basic')\n",
              "    define('basic', ['d3'],\n",
              "        function (d3) {\n",
              "            return {\n",
              "                init: function (viz_id = null) {\n",
              "\n",
              "                    // console.log('basic init')\n",
              "                    if (viz_id == null){\n",
              "                        viz_id = \"viz_\" + Math.round(Math.random() * 10000000)\n",
              "                    }\n",
              "                    const div = d3.select('#basic').attr('id', viz_id),\n",
              "                        div_parent = d3.select('#' + viz_id).node().parentNode\n",
              "\n",
              "                    // Link to CSS file\n",
              "                    d3.select(div_parent).insert('link')\n",
              "                        .attr('rel', 'stylesheet')\n",
              "                        .attr('type', 'text/css')\n",
              "                        .attr('href', ecco_url + 'html/styles.css')\n",
              "\n",
              "                    return viz_id\n",
              "                }\n",
              "            }\n",
              "        }, function (err) {console.log(err);}\n",
              "    )\n",
              "    // console.log('after defining basic')\n",
              "\n",
              "</script>\n",
              "<div id=\"basic\"></div>\n"
            ],
            "text/plain": [
              "<IPython.core.display.HTML object>"
            ]
          },
          "metadata": {}
        },
        {
          "output_type": "display_data",
          "data": {
            "application/javascript": [
              "\n",
              "             requirejs(['basic', 'ecco'], function(basic, ecco){\n",
              "                const viz_id = basic.init()\n",
              "                // ecco.interactiveTokens(viz_id, {})\n",
              "                window.ecco[viz_id] = new ecco.MinimalHighlighter({\n",
              "                parentDiv: viz_id,\n",
              "                data: {'tokens': [{'token': 'The', 'token_id': 464, 'type': 'input', 'value': '0.04971263', 'position': 0}, {'token': ' countries', 'token_id': 2678, 'type': 'input', 'value': '0.050562948', 'position': 1}, {'token': ' of', 'token_id': 286, 'type': 'input', 'value': '0.013000171', 'position': 2}, {'token': ' the', 'token_id': 262, 'type': 'input', 'value': '0.011942285', 'position': 3}, {'token': ' European', 'token_id': 3427, 'type': 'input', 'value': '0.050103635', 'position': 4}, {'token': ' Union', 'token_id': 4479, 'type': 'input', 'value': '0.02740528', 'position': 5}, {'token': ' are', 'token_id': 389, 'type': 'input', 'value': '0.016030673', 'position': 6}, {'token': ':', 'token_id': 25, 'type': 'input', 'value': '0.020745268', 'position': 7}, {'token': '\\n', 'token_id': 198, 'type': 'input', 'value': '0.026672974', 'position': 8}, {'token': '1', 'token_id': 16, 'type': 'input', 'value': '0.03545723', 'position': 9}, {'token': '.', 'token_id': 13, 'type': 'input', 'value': '0.026602557', 'position': 10}, {'token': ' Austria', 'token_id': 17322, 'type': 'input', 'value': '0.15114914', 'position': 11}, {'token': '\\n', 'token_id': 198, 'type': 'input', 'value': '0.022292832', 'position': 12}, {'token': '2', 'token_id': 17, 'type': 'input', 'value': '0.025617365', 'position': 13}, {'token': '.', 'token_id': 13, 'type': 'input', 'value': '0.020597693', 'position': 14}, {'token': ' Belgium', 'token_id': 15664, 'type': 'input', 'value': '0.12807712', 'position': 15}, {'token': '\\n', 'token_id': 198, 'type': 'input', 'value': '0.016908653', 'position': 16}, {'token': '3', 'token_id': 18, 'type': 'input', 'value': '0.028043982', 'position': 17}, {'token': '.', 'token_id': 13, 'type': 'input', 'value': '0.024369212', 'position': 18}, {'token': ' Bulgaria', 'token_id': 27902, 'type': 'input', 'value': '0.16466378', 'position': 19}, {'token': '\\n', 'token_id': 198, 'type': 'input', 'value': '0.016995262', 'position': 20}, {'token': '4', 'token_id': 19, 'type': 'input', 'value': '0.040703766', 'position': 21}, {'token': '.', 'token_id': 13, 'type': 'input', 'value': '0.032345504', 'position': 22}, {'token': ' Finland', 'token_id': 17837, 'type': 'output', 'value': '0', 'position': 23}, {'token': '\\n', 'token_id': 198, 'type': 'output', 'value': '0', 'position': 24}, {'token': '5', 'token_id': 20, 'type': 'output', 'value': '0', 'position': 25}, {'token': '.', 'token_id': 13, 'type': 'output', 'value': '0', 'position': 26}, {'token': ' Czech', 'token_id': 16639, 'type': 'output', 'value': '0', 'position': 27}, {'token': ' Republic', 'token_id': 2066, 'type': 'output', 'value': '0', 'position': 28}, {'token': '\\n', 'token_id': 198, 'type': 'output', 'value': '0', 'position': 29}, {'token': '6', 'token_id': 21, 'type': 'output', 'value': '0', 'position': 30}, {'token': '.', 'token_id': 13, 'type': 'output', 'value': '0', 'position': 31}, {'token': ' Germany', 'token_id': 4486, 'type': 'output', 'value': '0', 'position': 32}, {'token': '\\n', 'token_id': 198, 'type': 'output', 'value': '0', 'position': 33}, {'token': '7', 'token_id': 22, 'type': 'output', 'value': '0', 'position': 34}, {'token': '.', 'token_id': 13, 'type': 'output', 'value': '0', 'position': 35}, {'token': ' France', 'token_id': 4881, 'type': 'output', 'value': '0', 'position': 36}, {'token': '\\n', 'token_id': 198, 'type': 'output', 'value': '0', 'position': 37}, {'token': '8', 'token_id': 23, 'type': 'output', 'value': '0', 'position': 38}, {'token': '.', 'token_id': 13, 'type': 'output', 'value': '0', 'position': 39}, {'token': ' Greece', 'token_id': 10315, 'type': 'output', 'value': '0', 'position': 40}, {'token': '\\n', 'token_id': 198, 'type': 'output', 'value': '0', 'position': 41}, {'token': '9', 'token_id': 24, 'type': 'output', 'value': '0', 'position': 42}], 'attributions': [[0.04971263185143471, 0.05056294798851013, 0.013000170700252056, 0.011942285113036633, 0.05010363459587097, 0.027405280619859695, 0.016030672937631607, 0.02074526809155941, 0.026672974228858948, 0.03545723110437393, 0.02660255692899227, 0.15114913880825043, 0.022292831912636757, 0.025617364794015884, 0.02059769257903099, 0.12807711958885193, 0.01690865308046341, 0.02804398164153099, 0.024369211867451668, 0.16466377675533295, 0.01699526235461235, 0.04070376604795456, 0.03234550356864929], [0.05208181217312813, 0.06452556699514389, 0.0173624437302351, 0.01471586711704731, 0.04352362081408501, 0.03404565155506134, 0.029835397377610207, 0.035973791033029556, 0.038316309452056885, 0.047472719103097916, 0.030632706359028816, 0.08220862597227097, 0.028500664979219437, 0.03343329206109047, 0.027149811387062073, 0.04404957592487335, 0.02616005763411522, 0.028428232297301292, 0.015306051820516586, 0.04154893010854721, 0.02515048161149025, 0.0334913469851017, 0.02063390612602234, 0.18545322120189667], [0.0465521514415741, 0.060781579464673996, 0.01802138052880764, 0.014459691010415554, 0.03860490769147873, 0.029298953711986542, 0.026203716173768044, 0.03660690784454346, 0.04631178081035614, 0.06954757124185562, 0.03227923810482025, 0.0550716333091259, 0.03186977282166481, 0.05715448409318924, 0.020666344091296196, 0.03283867612481117, 0.025772565975785255, 0.060239020735025406, 0.023866478353738785, 0.038221657276153564, 0.02696879953145981, 0.06888528168201447, 0.0286331195384264, 0.062067244201898575, 0.04907698556780815], [0.04666933789849281, 0.07729592174291611, 0.014179705642163754, 0.011514070443809032, 0.032294973731040955, 0.02876991778612137, 0.02320493385195732, 0.02564113959670067, 0.02938685566186905, 0.04592594504356384, 0.02902284450829029, 0.07282426208257675, 0.02189153991639614, 0.03397733345627785, 0.030077826231718063, 0.04681486636400223, 0.021514728665351868, 0.03597577288746834, 0.030050374567508698, 0.049122270196676254, 0.024318590760231018, 0.052780453115701675, 0.02890057861804962, 0.06181836128234863, 0.033640723675489426, 0.09238659590482712], [0.04789255931973457, 0.046369768679142, 0.012098425067961216, 0.011566979810595512, 0.04267420247197151, 0.024164903908967972, 0.014243320561945438, 0.019043371081352234, 0.02242407016456127, 0.029221927747130394, 0.02254563942551613, 0.12206766754388809, 0.017586132511496544, 0.020554466173052788, 0.013543101027607918, 0.0859316885471344, 0.014980924315750599, 0.017768803983926773, 0.017300879582762718, 0.1019468605518341, 0.015005363151431084, 0.020971735939383507, 0.01664334535598755, 0.15205688774585724, 0.020018557086586952, 0.0367463193833828, 0.03463205695152283], [0.02721579559147358, 0.03461875766515732, 0.00824510958045721, 0.008744676597416401, 0.027622872963547707, 0.015682920813560486, 0.0123991584405303, 0.014415689744055271, 0.016263511031866074, 0.015219632536172867, 0.011857743375003338, 0.05588013678789139, 0.01386408694088459, 0.013601915910840034, 0.01108784694224596, 0.0348873995244503, 0.012218321673572063, 0.013776683248579502, 0.011317085474729538, 0.05526532977819443, 0.014932799153029919, 0.019257357344031334, 0.010297305881977081, 0.05328879877924919, 0.030284732580184937, 0.045919615775346756, 0.029924141243100166, 0.381910502910614], [0.04680497571825981, 0.05434756726026535, 0.013671301305294037, 0.01156417652964592, 0.03294750675559044, 0.02452743798494339, 0.028236528858542442, 0.03996911644935608, 0.02795126847922802, 0.03394149988889694, 0.020344076678156853, 0.06718075275421143, 0.01863333210349083, 0.023888757452368736, 0.018546024337410927, 0.04496493190526962, 0.016445891931653023, 0.018384793773293495, 0.013832176104187965, 0.04211732745170593, 0.015191730111837387, 0.018364310264587402, 0.013519692234694958, 0.03593779355287552, 0.021832920610904694, 0.021653592586517334, 0.02041548863053322, 0.11542792618274689, 0.13935713469982147], [0.037450581789016724, 0.051097799092531204, 0.014332895167171955, 0.010081845335662365, 0.029017452150583267, 0.0224017221480608, 0.02308342047035694, 0.03239394724369049, 0.04044031724333763, 0.052375998347997665, 0.024368252605199814, 0.041279226541519165, 0.02567555382847786, 0.037797193974256516, 0.01688458025455475, 0.029018975794315338, 0.026273075491189957, 0.039160095155239105, 0.01907753199338913, 0.030809765681624413, 0.02217511460185051, 0.06002272665500641, 0.019662916660308838, 0.03052411787211895, 0.031761717051267624, 0.08105357736349106, 0.02231854572892189, 0.05309266969561577, 0.036435309797525406, 0.039933107793331146], [0.04684869572520256, 0.0703754797577858, 0.012449991889297962, 0.01138805691152811, 0.02963542751967907, 0.025046056136488914, 0.020072171464562416, 0.022514251992106438, 0.027197759598493576, 0.03976231440901756, 0.02546508051455021, 0.062220461666584015, 0.018335673958063126, 0.025560708716511726, 0.026707258075475693, 0.04186885431408882, 0.018219713121652603, 0.024653589352965355, 0.020833702757954597, 0.039554253220558167, 0.01729016751050949, 0.02345440723001957, 0.02675504982471466, 0.032622870057821274, 0.027918484061956406, 0.04560583829879761, 0.02367805503308773, 0.04921254888176918, 0.023417998105287552, 0.032926127314567566, 0.08840889483690262], [0.04364846646785736, 0.03999355807900429, 0.011346380226314068, 0.010464750230312347, 0.03704437240958214, 0.021809576079249382, 0.013594813644886017, 0.017428085207939148, 0.021515537053346634, 0.026144415140151978, 0.02039400115609169, 0.11032266914844513, 0.01732260175049305, 0.018135137856006622, 0.013139004819095135, 0.0739152580499649, 0.01320325955748558, 0.014462952502071857, 0.012177337892353535, 0.07146967947483063, 0.013673068955540657, 0.012801202945411205, 0.013972519896924496, 0.08797754347324371, 0.0117788752540946, 0.01691141538321972, 0.013614136725664139, 0.12829379737377167, 0.01265039574354887, 0.015025254338979721, 0.037358272820711136, 0.028411580249667168], [0.04254928231239319, 0.051191121339797974, 0.014778207056224346, 0.010843945667147636, 0.03224622830748558, 0.025402415543794632, 0.022973250597715378, 0.031853146851062775, 0.03513706102967262, 0.03842967748641968, 0.023982267826795578, 0.06004767864942551, 0.02956257574260235, 0.030819080770015717, 0.019462747499346733, 0.03451932594180107, 0.02220790833234787, 0.02423434518277645, 0.012607237324118614, 0.03620889410376549, 0.01887998916208744, 0.0204155333340168, 0.009887116961181164, 0.03485439717769623, 0.01784152165055275, 0.018593471497297287, 0.009175888262689114, 0.03518190234899521, 0.017804941162467003, 0.02724558673799038, 0.036806195974349976, 0.025944307446479797, 0.12831275165081024], [0.035157132893800735, 0.043969374150037766, 0.012324952520430088, 0.008266890421509743, 0.025537433102726936, 0.020331520587205887, 0.01920614391565323, 0.029763199388980865, 0.0409066304564476, 0.04286111146211624, 0.018738562241196632, 0.03561638295650482, 0.0230322927236557, 0.03032471425831318, 0.014527064748108387, 0.025736335664987564, 0.019324585795402527, 0.03270724043250084, 0.014055300503969193, 0.03193168714642525, 0.019267026335000992, 0.045289743691682816, 0.01385262981057167, 0.026131993159651756, 0.019492313265800476, 0.06845245510339737, 0.012355856597423553, 0.027792125940322876, 0.017528990283608437, 0.030529582872986794, 0.0737130418419838, 0.02201971597969532, 0.06293262541294098, 0.03632333129644394], [0.04668557643890381, 0.0662524402141571, 0.0122023094445467, 0.011692225001752377, 0.028380703181028366, 0.023677285760641098, 0.020502401515841484, 0.023063939064741135, 0.027226341888308525, 0.03543413430452347, 0.023571353405714035, 0.06074802577495575, 0.016631336882710457, 0.0213400237262249, 0.024280577898025513, 0.04036995768547058, 0.013796119950711727, 0.01794128119945526, 0.018564576283097267, 0.03711006045341492, 0.013867930509150028, 0.019782505929470062, 0.018726037815213203, 0.026974381878972054, 0.016031838953495026, 0.02027934417128563, 0.025695856660604477, 0.02536005899310112, 0.015090313740074635, 0.025401661172509193, 0.05266765505075455, 0.02427123859524727, 0.03687150031328201, 0.02938682772219181, 0.08012206107378006], [0.043477222323417664, 0.042824942618608475, 0.011319661512970924, 0.011096807196736336, 0.03589734435081482, 0.021287817507982254, 0.01362666953355074, 0.016646532341837883, 0.020936228334903717, 0.023527614772319794, 0.01668703183531761, 0.09760981798171997, 0.015278500504791737, 0.015926167368888855, 0.011298752389848232, 0.055165670812129974, 0.012320301495492458, 0.013926583342254162, 0.011167734861373901, 0.06214845925569534, 0.011430894955992699, 0.013686864636838436, 0.008599688299000263, 0.06165440380573273, 0.01882648840546608, 0.015212489292025566, 0.009635338559746742, 0.06455403566360474, 0.016744717955589294, 0.013133560307323933, 0.02527540735900402, 0.016401730477809906, 0.10334719717502594, 0.013371985405683517, 0.029897021129727364, 0.026058373972773552], [0.045327022671699524, 0.04762593284249306, 0.012935610488057137, 0.011629518121480942, 0.03294926509261131, 0.025438401848077774, 0.024889731779694557, 0.031805120408535004, 0.028505221009254456, 0.0359959714114666, 0.02033856324851513, 0.06494247168302536, 0.019791370257735252, 0.024574214592576027, 0.019973140209913254, 0.04532215744256973, 0.013792822137475014, 0.017704762518405914, 0.01629873923957348, 0.03911901265382767, 0.012551960535347462, 0.017857536673545837, 0.01111783180385828, 0.031192513182759285, 0.008999967016279697, 0.014816300943493843, 0.009297442622482777, 0.020651256665587425, 0.015088626183569431, 0.012928638607263565, 0.020803499966859818, 0.012881704606115818, 0.029161684215068817, 0.01873732917010784, 0.02684738300740719, 0.019675711169838905, 0.13843151926994324], [0.037307292222976685, 0.0501241497695446, 0.012469636276364326, 0.009696630761027336, 0.027322256937623024, 0.02098092809319496, 0.02048490382730961, 0.02919895388185978, 0.04198922961950302, 0.041688475757837296, 0.01890634372830391, 0.03747283294796944, 0.024039510637521744, 0.028926772996783257, 0.014775510877370834, 0.02499835006892681, 0.017155658453702927, 0.025695940479636192, 0.012383224442601204, 0.02815687656402588, 0.015682294964790344, 0.033755455166101456, 0.010057684034109116, 0.02219337783753872, 0.016699183732271194, 0.03920275345444679, 0.009397534653544426, 0.019246675074100494, 0.014653649181127548, 0.01949748769402504, 0.040642935782670975, 0.011882353574037552, 0.027991823852062225, 0.02455945312976837, 0.06251473724842072, 0.01811128482222557, 0.05314137041568756, 0.036996424198150635], [0.04689529910683632, 0.06542440503835678, 0.012403135187923908, 0.012174810282886028, 0.02840559370815754, 0.02288750372827053, 0.020290564745664597, 0.022429870441555977, 0.028085533529520035, 0.037099771201610565, 0.02159411460161209, 0.057935360819101334, 0.015710454434156418, 0.020525198429822922, 0.02185167372226715, 0.03803768381476402, 0.011777046136558056, 0.015272047370672226, 0.015174522995948792, 0.036554306745529175, 0.012094279751181602, 0.016082236543297768, 0.016079792752861977, 0.027697553858160973, 0.012150382623076439, 0.016302457079291344, 0.015876183286309242, 0.02258671075105667, 0.012784707359969616, 0.013830508105456829, 0.02157689444720745, 0.02010239101946354, 0.020025664940476418, 0.016108937561511993, 0.04572201147675514, 0.02135010063648224, 0.0369206927716732, 0.02446732483804226, 0.07771226018667221], [0.04070166498422623, 0.036521315574645996, 0.010523956269025803, 0.010785612277686596, 0.031940460205078125, 0.01916179060935974, 0.012044223956763744, 0.015361547470092773, 0.01893407106399536, 0.022246167063713074, 0.015342623926699162, 0.07883337140083313, 0.01252282690256834, 0.01586700603365898, 0.009516648016870022, 0.045394010841846466, 0.010769715532660484, 0.01543488446623087, 0.00879732146859169, 0.05198714882135391, 0.010587835684418678, 0.01437714509665966, 0.00729927746579051, 0.05135636404156685, 0.017204632982611656, 0.015133528970181942, 0.011874647811055183, 0.05046255886554718, 0.018141362816095352, 0.012753361836075783, 0.019598130136728287, 0.011441425420343876, 0.06046165153384209, 0.011358476243913174, 0.015488281846046448, 0.015060405246913433, 0.10346752405166626, 0.01957503706216812, 0.02683740295469761, 0.024834612384438515], [0.03885068744421005, 0.037449855357408524, 0.013720141723752022, 0.00838226918131113, 0.023793106898665428, 0.020513005554676056, 0.01906551420688629, 0.03026820532977581, 0.027254318818449974, 0.029128380119800568, 0.016778647899627686, 0.06093703210353851, 0.02369389310479164, 0.02478928118944168, 0.011770493350923061, 0.025182640179991722, 0.016917992383241653, 0.019248967990279198, 0.009377367794513702, 0.029072582721710205, 0.016568413004279137, 0.01388452760875225, 0.006778528913855553, 0.027405185624957085, 0.015915177762508392, 0.00985973421484232, 0.0067016491666436195, 0.030911540612578392, 0.015451950952410698, 0.01530095562338829, 0.014246819540858269, 0.007324519567191601, 0.01816299930214882, 0.018560191616415977, 0.016077851876616478, 0.007899134419858456, 0.026819996535778046, 0.02411188744008541, 0.02770783007144928, 0.023566855117678642, 0.17054979503154755], [0.03621635586023331, 0.04547959566116333, 0.012066096067428589, 0.00999063067138195, 0.026254983618855476, 0.02113252878189087, 0.019344858825206757, 0.026107653975486755, 0.040149789303541183, 0.039734769612550735, 0.01941141113638878, 0.03634859621524811, 0.02102508954703808, 0.025774750858545303, 0.01417614333331585, 0.022075457498431206, 0.01468587014824152, 0.024470573291182518, 0.010765383951365948, 0.02416306361556053, 0.013743579387664795, 0.03113315813243389, 0.00854273047298193, 0.019603604450821877, 0.01564447581768036, 0.03365707769989967, 0.0072901612147688866, 0.01634219102561474, 0.01248687319457531, 0.013991757296025753, 0.02562786638736725, 0.00989596452564001, 0.01693052239716053, 0.015476911328732967, 0.03886530175805092, 0.009351678192615509, 0.029993558302521706, 0.021049298346042633, 0.06501514464616776, 0.015848057344555855, 0.04835294932126999, 0.04178353026509285]]},\n",
              "                preset: 'viridis'\n",
              "             })\n",
              "\n",
              "             window.ecco[viz_id].init();\n",
              "             window.ecco[viz_id].selectFirstToken();\n",
              "\n",
              "             }, function (err) {\n",
              "                console.log(err);\n",
              "            })"
            ],
            "text/plain": [
              "<IPython.core.display.Javascript object>"
            ]
          },
          "metadata": {}
        }
      ]
    },
    {
      "cell_type": "markdown",
      "metadata": {
        "id": "4vicS8eRCujY"
      },
      "source": [
        "### Detailed saliency view\n",
        "We can see a more detailed view of the saliency values using the detailed view:"
      ]
    },
    {
      "cell_type": "code",
      "metadata": {
        "id": "9ao3g9RIFa7x",
        "colab": {
          "base_uri": "https://localhost:8080/",
          "height": 357
        },
        "outputId": "69d9d74f-39a8-4018-d290-88718e389f90"
      },
      "source": [
        "output_3.saliency(style=\"detailed\")"
      ],
      "execution_count": 14,
      "outputs": [
        {
          "output_type": "display_data",
          "data": {
            "text/html": [
              "<html lang=\"en\">\n",
              "<script src=\"https://requirejs.org/docs/release/2.3.6/minified/require.js\"></script>\n",
              "<script>\n",
              "    var ecco_url = 'https://storage.googleapis.com/ml-intro/ecco/'\n",
              "    // var ecco_url = 'http://localhost:8000/ecco/'\n",
              "\n",
              "    if (window.ecco === undefined) window.ecco = {}\n",
              "\n",
              "    requirejs.config({\n",
              "        urlArgs: \"bust=\" + (new Date()).getTime(),\n",
              "        nodeRequire: require,\n",
              "        paths: {\n",
              "            d3: \"https://d3js.org/d3.v5.min\",\n",
              "            \"d3-array\": \"https://d3js.org/d3-array.v2.min\",\n",
              "            jquery: \"https://code.jquery.com/jquery-3.5.1.min\",\n",
              "            // oldEcco: ecco_url + 'ecco',\n",
              "            ecco: ecco_url + 'js/0.0.4/ecco-bundle.min',\n",
              "            xregexp: 'https://cdnjs.cloudflare.com/ajax/libs/xregexp/3.2.0/xregexp-all.min'\n",
              "        }\n",
              "    });\n",
              "    requirejs(['d3'],\n",
              "        function (d3) {\n",
              "            d3.select('#css').attr('href', ecco_url + 'html/styles.css')\n",
              "        })\n",
              "\n",
              "    console.log('Ecco initialize.')\n",
              "</script>\n",
              "\n",
              "<head>\n",
              "    <link id='css' rel=\"stylesheet\" type=\"text/css\">\n",
              "</head>\n"
            ],
            "text/plain": [
              "<IPython.core.display.HTML object>"
            ]
          },
          "metadata": {}
        },
        {
          "output_type": "display_data",
          "data": {
            "text/html": [
              "<script>\n",
              "    // console.log('defining basic')\n",
              "    define('basic', ['d3'],\n",
              "        function (d3) {\n",
              "            return {\n",
              "                init: function (viz_id = null) {\n",
              "\n",
              "                    // console.log('basic init')\n",
              "                    if (viz_id == null){\n",
              "                        viz_id = \"viz_\" + Math.round(Math.random() * 10000000)\n",
              "                    }\n",
              "                    const div = d3.select('#basic').attr('id', viz_id),\n",
              "                        div_parent = d3.select('#' + viz_id).node().parentNode\n",
              "\n",
              "                    // Link to CSS file\n",
              "                    d3.select(div_parent).insert('link')\n",
              "                        .attr('rel', 'stylesheet')\n",
              "                        .attr('type', 'text/css')\n",
              "                        .attr('href', ecco_url + 'html/styles.css')\n",
              "\n",
              "                    return viz_id\n",
              "                }\n",
              "            }\n",
              "        }, function (err) {console.log(err);}\n",
              "    )\n",
              "    // console.log('after defining basic')\n",
              "\n",
              "</script>\n",
              "<div id=\"basic\"></div>\n"
            ],
            "text/plain": [
              "<IPython.core.display.HTML object>"
            ]
          },
          "metadata": {}
        },
        {
          "output_type": "display_data",
          "data": {
            "application/javascript": [
              "\n",
              "             requirejs(['basic', 'ecco'], function(basic, ecco){\n",
              "                const viz_id = basic.init()\n",
              "                window.ecco[viz_id] = ecco.interactiveTokens(viz_id, {'tokens': [{'token': 'The', 'token_id': 464, 'type': 'input', 'value': '0.04971263', 'position': 0}, {'token': ' countries', 'token_id': 2678, 'type': 'input', 'value': '0.050562948', 'position': 1}, {'token': ' of', 'token_id': 286, 'type': 'input', 'value': '0.013000171', 'position': 2}, {'token': ' the', 'token_id': 262, 'type': 'input', 'value': '0.011942285', 'position': 3}, {'token': ' European', 'token_id': 3427, 'type': 'input', 'value': '0.050103635', 'position': 4}, {'token': ' Union', 'token_id': 4479, 'type': 'input', 'value': '0.02740528', 'position': 5}, {'token': ' are', 'token_id': 389, 'type': 'input', 'value': '0.016030673', 'position': 6}, {'token': ':', 'token_id': 25, 'type': 'input', 'value': '0.020745268', 'position': 7}, {'token': '\\n', 'token_id': 198, 'type': 'input', 'value': '0.026672974', 'position': 8}, {'token': '1', 'token_id': 16, 'type': 'input', 'value': '0.03545723', 'position': 9}, {'token': '.', 'token_id': 13, 'type': 'input', 'value': '0.026602557', 'position': 10}, {'token': ' Austria', 'token_id': 17322, 'type': 'input', 'value': '0.15114914', 'position': 11}, {'token': '\\n', 'token_id': 198, 'type': 'input', 'value': '0.022292832', 'position': 12}, {'token': '2', 'token_id': 17, 'type': 'input', 'value': '0.025617365', 'position': 13}, {'token': '.', 'token_id': 13, 'type': 'input', 'value': '0.020597693', 'position': 14}, {'token': ' Belgium', 'token_id': 15664, 'type': 'input', 'value': '0.12807712', 'position': 15}, {'token': '\\n', 'token_id': 198, 'type': 'input', 'value': '0.016908653', 'position': 16}, {'token': '3', 'token_id': 18, 'type': 'input', 'value': '0.028043982', 'position': 17}, {'token': '.', 'token_id': 13, 'type': 'input', 'value': '0.024369212', 'position': 18}, {'token': ' Bulgaria', 'token_id': 27902, 'type': 'input', 'value': '0.16466378', 'position': 19}, {'token': '\\n', 'token_id': 198, 'type': 'input', 'value': '0.016995262', 'position': 20}, {'token': '4', 'token_id': 19, 'type': 'input', 'value': '0.040703766', 'position': 21}, {'token': '.', 'token_id': 13, 'type': 'input', 'value': '0.032345504', 'position': 22}, {'token': ' Finland', 'token_id': 17837, 'type': 'output', 'value': '0', 'position': 23}, {'token': '\\n', 'token_id': 198, 'type': 'output', 'value': '0', 'position': 24}, {'token': '5', 'token_id': 20, 'type': 'output', 'value': '0', 'position': 25}, {'token': '.', 'token_id': 13, 'type': 'output', 'value': '0', 'position': 26}, {'token': ' Czech', 'token_id': 16639, 'type': 'output', 'value': '0', 'position': 27}, {'token': ' Republic', 'token_id': 2066, 'type': 'output', 'value': '0', 'position': 28}, {'token': '\\n', 'token_id': 198, 'type': 'output', 'value': '0', 'position': 29}, {'token': '6', 'token_id': 21, 'type': 'output', 'value': '0', 'position': 30}, {'token': '.', 'token_id': 13, 'type': 'output', 'value': '0', 'position': 31}, {'token': ' Germany', 'token_id': 4486, 'type': 'output', 'value': '0', 'position': 32}, {'token': '\\n', 'token_id': 198, 'type': 'output', 'value': '0', 'position': 33}, {'token': '7', 'token_id': 22, 'type': 'output', 'value': '0', 'position': 34}, {'token': '.', 'token_id': 13, 'type': 'output', 'value': '0', 'position': 35}, {'token': ' France', 'token_id': 4881, 'type': 'output', 'value': '0', 'position': 36}, {'token': '\\n', 'token_id': 198, 'type': 'output', 'value': '0', 'position': 37}, {'token': '8', 'token_id': 23, 'type': 'output', 'value': '0', 'position': 38}, {'token': '.', 'token_id': 13, 'type': 'output', 'value': '0', 'position': 39}, {'token': ' Greece', 'token_id': 10315, 'type': 'output', 'value': '0', 'position': 40}, {'token': '\\n', 'token_id': 198, 'type': 'output', 'value': '0', 'position': 41}, {'token': '9', 'token_id': 24, 'type': 'output', 'value': '0', 'position': 42}], 'attributions': [[0.04971263185143471, 0.05056294798851013, 0.013000170700252056, 0.011942285113036633, 0.05010363459587097, 0.027405280619859695, 0.016030672937631607, 0.02074526809155941, 0.026672974228858948, 0.03545723110437393, 0.02660255692899227, 0.15114913880825043, 0.022292831912636757, 0.025617364794015884, 0.02059769257903099, 0.12807711958885193, 0.01690865308046341, 0.02804398164153099, 0.024369211867451668, 0.16466377675533295, 0.01699526235461235, 0.04070376604795456, 0.03234550356864929], [0.05208181217312813, 0.06452556699514389, 0.0173624437302351, 0.01471586711704731, 0.04352362081408501, 0.03404565155506134, 0.029835397377610207, 0.035973791033029556, 0.038316309452056885, 0.047472719103097916, 0.030632706359028816, 0.08220862597227097, 0.028500664979219437, 0.03343329206109047, 0.027149811387062073, 0.04404957592487335, 0.02616005763411522, 0.028428232297301292, 0.015306051820516586, 0.04154893010854721, 0.02515048161149025, 0.0334913469851017, 0.02063390612602234, 0.18545322120189667], [0.0465521514415741, 0.060781579464673996, 0.01802138052880764, 0.014459691010415554, 0.03860490769147873, 0.029298953711986542, 0.026203716173768044, 0.03660690784454346, 0.04631178081035614, 0.06954757124185562, 0.03227923810482025, 0.0550716333091259, 0.03186977282166481, 0.05715448409318924, 0.020666344091296196, 0.03283867612481117, 0.025772565975785255, 0.060239020735025406, 0.023866478353738785, 0.038221657276153564, 0.02696879953145981, 0.06888528168201447, 0.0286331195384264, 0.062067244201898575, 0.04907698556780815], [0.04666933789849281, 0.07729592174291611, 0.014179705642163754, 0.011514070443809032, 0.032294973731040955, 0.02876991778612137, 0.02320493385195732, 0.02564113959670067, 0.02938685566186905, 0.04592594504356384, 0.02902284450829029, 0.07282426208257675, 0.02189153991639614, 0.03397733345627785, 0.030077826231718063, 0.04681486636400223, 0.021514728665351868, 0.03597577288746834, 0.030050374567508698, 0.049122270196676254, 0.024318590760231018, 0.052780453115701675, 0.02890057861804962, 0.06181836128234863, 0.033640723675489426, 0.09238659590482712], [0.04789255931973457, 0.046369768679142, 0.012098425067961216, 0.011566979810595512, 0.04267420247197151, 0.024164903908967972, 0.014243320561945438, 0.019043371081352234, 0.02242407016456127, 0.029221927747130394, 0.02254563942551613, 0.12206766754388809, 0.017586132511496544, 0.020554466173052788, 0.013543101027607918, 0.0859316885471344, 0.014980924315750599, 0.017768803983926773, 0.017300879582762718, 0.1019468605518341, 0.015005363151431084, 0.020971735939383507, 0.01664334535598755, 0.15205688774585724, 0.020018557086586952, 0.0367463193833828, 0.03463205695152283], [0.02721579559147358, 0.03461875766515732, 0.00824510958045721, 0.008744676597416401, 0.027622872963547707, 0.015682920813560486, 0.0123991584405303, 0.014415689744055271, 0.016263511031866074, 0.015219632536172867, 0.011857743375003338, 0.05588013678789139, 0.01386408694088459, 0.013601915910840034, 0.01108784694224596, 0.0348873995244503, 0.012218321673572063, 0.013776683248579502, 0.011317085474729538, 0.05526532977819443, 0.014932799153029919, 0.019257357344031334, 0.010297305881977081, 0.05328879877924919, 0.030284732580184937, 0.045919615775346756, 0.029924141243100166, 0.381910502910614], [0.04680497571825981, 0.05434756726026535, 0.013671301305294037, 0.01156417652964592, 0.03294750675559044, 0.02452743798494339, 0.028236528858542442, 0.03996911644935608, 0.02795126847922802, 0.03394149988889694, 0.020344076678156853, 0.06718075275421143, 0.01863333210349083, 0.023888757452368736, 0.018546024337410927, 0.04496493190526962, 0.016445891931653023, 0.018384793773293495, 0.013832176104187965, 0.04211732745170593, 0.015191730111837387, 0.018364310264587402, 0.013519692234694958, 0.03593779355287552, 0.021832920610904694, 0.021653592586517334, 0.02041548863053322, 0.11542792618274689, 0.13935713469982147], [0.037450581789016724, 0.051097799092531204, 0.014332895167171955, 0.010081845335662365, 0.029017452150583267, 0.0224017221480608, 0.02308342047035694, 0.03239394724369049, 0.04044031724333763, 0.052375998347997665, 0.024368252605199814, 0.041279226541519165, 0.02567555382847786, 0.037797193974256516, 0.01688458025455475, 0.029018975794315338, 0.026273075491189957, 0.039160095155239105, 0.01907753199338913, 0.030809765681624413, 0.02217511460185051, 0.06002272665500641, 0.019662916660308838, 0.03052411787211895, 0.031761717051267624, 0.08105357736349106, 0.02231854572892189, 0.05309266969561577, 0.036435309797525406, 0.039933107793331146], [0.04684869572520256, 0.0703754797577858, 0.012449991889297962, 0.01138805691152811, 0.02963542751967907, 0.025046056136488914, 0.020072171464562416, 0.022514251992106438, 0.027197759598493576, 0.03976231440901756, 0.02546508051455021, 0.062220461666584015, 0.018335673958063126, 0.025560708716511726, 0.026707258075475693, 0.04186885431408882, 0.018219713121652603, 0.024653589352965355, 0.020833702757954597, 0.039554253220558167, 0.01729016751050949, 0.02345440723001957, 0.02675504982471466, 0.032622870057821274, 0.027918484061956406, 0.04560583829879761, 0.02367805503308773, 0.04921254888176918, 0.023417998105287552, 0.032926127314567566, 0.08840889483690262], [0.04364846646785736, 0.03999355807900429, 0.011346380226314068, 0.010464750230312347, 0.03704437240958214, 0.021809576079249382, 0.013594813644886017, 0.017428085207939148, 0.021515537053346634, 0.026144415140151978, 0.02039400115609169, 0.11032266914844513, 0.01732260175049305, 0.018135137856006622, 0.013139004819095135, 0.0739152580499649, 0.01320325955748558, 0.014462952502071857, 0.012177337892353535, 0.07146967947483063, 0.013673068955540657, 0.012801202945411205, 0.013972519896924496, 0.08797754347324371, 0.0117788752540946, 0.01691141538321972, 0.013614136725664139, 0.12829379737377167, 0.01265039574354887, 0.015025254338979721, 0.037358272820711136, 0.028411580249667168], [0.04254928231239319, 0.051191121339797974, 0.014778207056224346, 0.010843945667147636, 0.03224622830748558, 0.025402415543794632, 0.022973250597715378, 0.031853146851062775, 0.03513706102967262, 0.03842967748641968, 0.023982267826795578, 0.06004767864942551, 0.02956257574260235, 0.030819080770015717, 0.019462747499346733, 0.03451932594180107, 0.02220790833234787, 0.02423434518277645, 0.012607237324118614, 0.03620889410376549, 0.01887998916208744, 0.0204155333340168, 0.009887116961181164, 0.03485439717769623, 0.01784152165055275, 0.018593471497297287, 0.009175888262689114, 0.03518190234899521, 0.017804941162467003, 0.02724558673799038, 0.036806195974349976, 0.025944307446479797, 0.12831275165081024], [0.035157132893800735, 0.043969374150037766, 0.012324952520430088, 0.008266890421509743, 0.025537433102726936, 0.020331520587205887, 0.01920614391565323, 0.029763199388980865, 0.0409066304564476, 0.04286111146211624, 0.018738562241196632, 0.03561638295650482, 0.0230322927236557, 0.03032471425831318, 0.014527064748108387, 0.025736335664987564, 0.019324585795402527, 0.03270724043250084, 0.014055300503969193, 0.03193168714642525, 0.019267026335000992, 0.045289743691682816, 0.01385262981057167, 0.026131993159651756, 0.019492313265800476, 0.06845245510339737, 0.012355856597423553, 0.027792125940322876, 0.017528990283608437, 0.030529582872986794, 0.0737130418419838, 0.02201971597969532, 0.06293262541294098, 0.03632333129644394], [0.04668557643890381, 0.0662524402141571, 0.0122023094445467, 0.011692225001752377, 0.028380703181028366, 0.023677285760641098, 0.020502401515841484, 0.023063939064741135, 0.027226341888308525, 0.03543413430452347, 0.023571353405714035, 0.06074802577495575, 0.016631336882710457, 0.0213400237262249, 0.024280577898025513, 0.04036995768547058, 0.013796119950711727, 0.01794128119945526, 0.018564576283097267, 0.03711006045341492, 0.013867930509150028, 0.019782505929470062, 0.018726037815213203, 0.026974381878972054, 0.016031838953495026, 0.02027934417128563, 0.025695856660604477, 0.02536005899310112, 0.015090313740074635, 0.025401661172509193, 0.05266765505075455, 0.02427123859524727, 0.03687150031328201, 0.02938682772219181, 0.08012206107378006], [0.043477222323417664, 0.042824942618608475, 0.011319661512970924, 0.011096807196736336, 0.03589734435081482, 0.021287817507982254, 0.01362666953355074, 0.016646532341837883, 0.020936228334903717, 0.023527614772319794, 0.01668703183531761, 0.09760981798171997, 0.015278500504791737, 0.015926167368888855, 0.011298752389848232, 0.055165670812129974, 0.012320301495492458, 0.013926583342254162, 0.011167734861373901, 0.06214845925569534, 0.011430894955992699, 0.013686864636838436, 0.008599688299000263, 0.06165440380573273, 0.01882648840546608, 0.015212489292025566, 0.009635338559746742, 0.06455403566360474, 0.016744717955589294, 0.013133560307323933, 0.02527540735900402, 0.016401730477809906, 0.10334719717502594, 0.013371985405683517, 0.029897021129727364, 0.026058373972773552], [0.045327022671699524, 0.04762593284249306, 0.012935610488057137, 0.011629518121480942, 0.03294926509261131, 0.025438401848077774, 0.024889731779694557, 0.031805120408535004, 0.028505221009254456, 0.0359959714114666, 0.02033856324851513, 0.06494247168302536, 0.019791370257735252, 0.024574214592576027, 0.019973140209913254, 0.04532215744256973, 0.013792822137475014, 0.017704762518405914, 0.01629873923957348, 0.03911901265382767, 0.012551960535347462, 0.017857536673545837, 0.01111783180385828, 0.031192513182759285, 0.008999967016279697, 0.014816300943493843, 0.009297442622482777, 0.020651256665587425, 0.015088626183569431, 0.012928638607263565, 0.020803499966859818, 0.012881704606115818, 0.029161684215068817, 0.01873732917010784, 0.02684738300740719, 0.019675711169838905, 0.13843151926994324], [0.037307292222976685, 0.0501241497695446, 0.012469636276364326, 0.009696630761027336, 0.027322256937623024, 0.02098092809319496, 0.02048490382730961, 0.02919895388185978, 0.04198922961950302, 0.041688475757837296, 0.01890634372830391, 0.03747283294796944, 0.024039510637521744, 0.028926772996783257, 0.014775510877370834, 0.02499835006892681, 0.017155658453702927, 0.025695940479636192, 0.012383224442601204, 0.02815687656402588, 0.015682294964790344, 0.033755455166101456, 0.010057684034109116, 0.02219337783753872, 0.016699183732271194, 0.03920275345444679, 0.009397534653544426, 0.019246675074100494, 0.014653649181127548, 0.01949748769402504, 0.040642935782670975, 0.011882353574037552, 0.027991823852062225, 0.02455945312976837, 0.06251473724842072, 0.01811128482222557, 0.05314137041568756, 0.036996424198150635], [0.04689529910683632, 0.06542440503835678, 0.012403135187923908, 0.012174810282886028, 0.02840559370815754, 0.02288750372827053, 0.020290564745664597, 0.022429870441555977, 0.028085533529520035, 0.037099771201610565, 0.02159411460161209, 0.057935360819101334, 0.015710454434156418, 0.020525198429822922, 0.02185167372226715, 0.03803768381476402, 0.011777046136558056, 0.015272047370672226, 0.015174522995948792, 0.036554306745529175, 0.012094279751181602, 0.016082236543297768, 0.016079792752861977, 0.027697553858160973, 0.012150382623076439, 0.016302457079291344, 0.015876183286309242, 0.02258671075105667, 0.012784707359969616, 0.013830508105456829, 0.02157689444720745, 0.02010239101946354, 0.020025664940476418, 0.016108937561511993, 0.04572201147675514, 0.02135010063648224, 0.0369206927716732, 0.02446732483804226, 0.07771226018667221], [0.04070166498422623, 0.036521315574645996, 0.010523956269025803, 0.010785612277686596, 0.031940460205078125, 0.01916179060935974, 0.012044223956763744, 0.015361547470092773, 0.01893407106399536, 0.022246167063713074, 0.015342623926699162, 0.07883337140083313, 0.01252282690256834, 0.01586700603365898, 0.009516648016870022, 0.045394010841846466, 0.010769715532660484, 0.01543488446623087, 0.00879732146859169, 0.05198714882135391, 0.010587835684418678, 0.01437714509665966, 0.00729927746579051, 0.05135636404156685, 0.017204632982611656, 0.015133528970181942, 0.011874647811055183, 0.05046255886554718, 0.018141362816095352, 0.012753361836075783, 0.019598130136728287, 0.011441425420343876, 0.06046165153384209, 0.011358476243913174, 0.015488281846046448, 0.015060405246913433, 0.10346752405166626, 0.01957503706216812, 0.02683740295469761, 0.024834612384438515], [0.03885068744421005, 0.037449855357408524, 0.013720141723752022, 0.00838226918131113, 0.023793106898665428, 0.020513005554676056, 0.01906551420688629, 0.03026820532977581, 0.027254318818449974, 0.029128380119800568, 0.016778647899627686, 0.06093703210353851, 0.02369389310479164, 0.02478928118944168, 0.011770493350923061, 0.025182640179991722, 0.016917992383241653, 0.019248967990279198, 0.009377367794513702, 0.029072582721710205, 0.016568413004279137, 0.01388452760875225, 0.006778528913855553, 0.027405185624957085, 0.015915177762508392, 0.00985973421484232, 0.0067016491666436195, 0.030911540612578392, 0.015451950952410698, 0.01530095562338829, 0.014246819540858269, 0.007324519567191601, 0.01816299930214882, 0.018560191616415977, 0.016077851876616478, 0.007899134419858456, 0.026819996535778046, 0.02411188744008541, 0.02770783007144928, 0.023566855117678642, 0.17054979503154755], [0.03621635586023331, 0.04547959566116333, 0.012066096067428589, 0.00999063067138195, 0.026254983618855476, 0.02113252878189087, 0.019344858825206757, 0.026107653975486755, 0.040149789303541183, 0.039734769612550735, 0.01941141113638878, 0.03634859621524811, 0.02102508954703808, 0.025774750858545303, 0.01417614333331585, 0.022075457498431206, 0.01468587014824152, 0.024470573291182518, 0.010765383951365948, 0.02416306361556053, 0.013743579387664795, 0.03113315813243389, 0.00854273047298193, 0.019603604450821877, 0.01564447581768036, 0.03365707769989967, 0.0072901612147688866, 0.01634219102561474, 0.01248687319457531, 0.013991757296025753, 0.02562786638736725, 0.00989596452564001, 0.01693052239716053, 0.015476911328732967, 0.03886530175805092, 0.009351678192615509, 0.029993558302521706, 0.021049298346042633, 0.06501514464616776, 0.015848057344555855, 0.04835294932126999, 0.04178353026509285]]})\n",
              "\n",
              "             }, function (err) {\n",
              "                console.log(err);\n",
              "            })"
            ],
            "text/plain": [
              "<IPython.core.display.Javascript object>"
            ]
          },
          "metadata": {}
        }
      ]
    }
  ]
}